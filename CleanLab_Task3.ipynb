{
  "nbformat": 4,
  "nbformat_minor": 0,
  "metadata": {
    "colab": {
      "provenance": []
    },
    "kernelspec": {
      "name": "python3",
      "display_name": "Python 3"
    },
    "language_info": {
      "name": "python"
    }
  },
  "cells": [
    {
      "cell_type": "markdown",
      "source": [
        "# CleanLab Task"
      ],
      "metadata": {
        "id": "gQFz7-vlkzBF"
      }
    },
    {
      "cell_type": "code",
      "execution_count": null,
      "metadata": {
        "collapsed": true,
        "id": "FslSnc5HyvwV"
      },
      "outputs": [],
      "source": [
        "!pip install \"cleanlab[datalab]\""
      ]
    },
    {
      "cell_type": "code",
      "source": [
        "import numpy as np\n",
        "import pandas as pd\n",
        "from sklearn.datasets import load_iris\n",
        "from cleanlab.classification import CleanLearning"
      ],
      "metadata": {
        "id": "_k1Zbeus_l78"
      },
      "execution_count": null,
      "outputs": []
    },
    {
      "cell_type": "code",
      "source": [
        "# Load the Iris dataset\n",
        "iris = load_iris()\n",
        "df = pd.DataFrame(iris.data, columns=iris.feature_names)\n",
        "df['target'] = iris.target\n",
        "print(df.head())"
      ],
      "metadata": {
        "id": "DYm3OMMYcNRY"
      },
      "execution_count": null,
      "outputs": []
    },
    {
      "cell_type": "code",
      "source": [
        "# Introduce anomalies by altering some values\n",
        "np.random.seed(42)\n",
        "anomaly_indices = np.random.choice(df.index, size=10, replace=False)\n",
        "df.loc[anomaly_indices, 'petal length (cm)'] = np.random.uniform(5, 7, size=10)"
      ],
      "metadata": {
        "id": "lnNneeE8cZOi"
      },
      "execution_count": null,
      "outputs": []
    },
    {
      "cell_type": "code",
      "source": [
        "X = iris.data\n",
        "y = iris.target\n",
        "\n",
        "# Use CleanLearning for anomaly detection\n",
        "clf = CleanLearning()\n",
        "clf.fit(X, y)\n",
        "\n",
        "# Find potential anomalies in labels\n",
        "label_issues = clf.find_label_issues(X, y)\n",
        "\n",
        "# Output the anomalies\n",
        "anomalies = np.where(label_issues[\"is_label_issue\"])[0]\n",
        "print(f\"Anomalies detected at indices: {anomalies}\")\n",
        "print(f\"Suspected anomaly values: {X[anomalies]}\")"
      ],
      "metadata": {
        "id": "-nkO_L78caDI"
      },
      "execution_count": null,
      "outputs": []
    },
    {
      "cell_type": "code",
      "source": [
        "# Create an empty list to store DataFrames\n",
        "suspect_dfs = []\n",
        "\n",
        "flower_species = {0.0: \"Setosa\", 1.0: \"Versicolor\", 2.0: \"Virginica\"}\n",
        "\n",
        "# Loop over the indices and create a structured DataFrame for each\n",
        "for idx in anomalies:\n",
        "    # Create a DataFrame for the suspected anomaly data point\n",
        "    df_suspect = pd.DataFrame([df.iloc[idx][iris.feature_names].values], columns=iris.feature_names)\n",
        "    df_suspect.insert(0, \"Index\", idx)  # Insert index column\n",
        "\n",
        "    df_suspect[\"True Label\"] = df.iloc[idx][\"target\"]\n",
        "    df_suspect[\"Flower Species\"] = flower_species[y[idx]]  # Map label to flower species\n",
        "\n",
        "    # Append the current suspect DataFrame to the list\n",
        "    suspect_dfs.append(df_suspect)\n",
        "\n",
        "# Combine all the suspect DataFrames into a single DataFrame\n",
        "df_all_suspects = pd.concat(suspect_dfs, ignore_index=True)\n",
        "\n",
        "# Print the full table of suspected anomalies\n",
        "print(\"\\n                                      Suspected Anomalous Data Points\")\n",
        "print(\"-----------------------------------------------------------------------------------------------------------\")\n",
        "\n",
        "print(df_all_suspects.to_string(index=False))"
      ],
      "metadata": {
        "id": "RezXah9nc5eG"
      },
      "execution_count": null,
      "outputs": []
    }
  ]
}