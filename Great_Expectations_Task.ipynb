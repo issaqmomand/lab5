{
  "cells": [
    {
      "cell_type": "markdown",
      "metadata": {
        "id": "S0KvgYslI64f"
      },
      "source": [
        "# Great Expectations Task"
      ]
    },
    {
      "cell_type": "markdown",
      "metadata": {
        "id": "9R147FfXJG4F"
      },
      "source": [
        "## 1. Install Great Expectations Library\n"
      ]
    },
    {
      "cell_type": "code",
      "execution_count": 51,
      "metadata": {
        "collapsed": true,
        "id": "TGqDcWNh3Y_-"
      },
      "outputs": [
        {
          "name": "stdout",
          "output_type": "stream",
          "text": [
            "Requirement already satisfied: great_expectations==0.17.14 in c:\\users\\issaq\\downloads\\sofe3980u-lab5-main\\sofe3980u-lab5-main\\lab5\\lib\\site-packages (0.17.14)\n",
            "Requirement already satisfied: altair<5.0.0,>=4.2.1 in c:\\users\\issaq\\downloads\\sofe3980u-lab5-main\\sofe3980u-lab5-main\\lab5\\lib\\site-packages (from great_expectations==0.17.14) (4.2.2)\n",
            "Requirement already satisfied: Click!=8.1.4,>=7.1.2 in c:\\users\\issaq\\downloads\\sofe3980u-lab5-main\\sofe3980u-lab5-main\\lab5\\lib\\site-packages (from great_expectations==0.17.14) (8.1.8)\n",
            "Requirement already satisfied: colorama>=0.4.3 in c:\\users\\issaq\\downloads\\sofe3980u-lab5-main\\sofe3980u-lab5-main\\lab5\\lib\\site-packages (from great_expectations==0.17.14) (0.4.6)\n",
            "Requirement already satisfied: cryptography>=3.2 in c:\\users\\issaq\\downloads\\sofe3980u-lab5-main\\sofe3980u-lab5-main\\lab5\\lib\\site-packages (from great_expectations==0.17.14) (44.0.2)\n",
            "Requirement already satisfied: Ipython>=7.16.3 in c:\\users\\issaq\\downloads\\sofe3980u-lab5-main\\sofe3980u-lab5-main\\lab5\\lib\\site-packages (from great_expectations==0.17.14) (9.0.2)\n",
            "Requirement already satisfied: ipywidgets>=7.5.1 in c:\\users\\issaq\\downloads\\sofe3980u-lab5-main\\sofe3980u-lab5-main\\lab5\\lib\\site-packages (from great_expectations==0.17.14) (8.1.5)\n",
            "Requirement already satisfied: jinja2>=2.10 in c:\\users\\issaq\\downloads\\sofe3980u-lab5-main\\sofe3980u-lab5-main\\lab5\\lib\\site-packages (from great_expectations==0.17.14) (3.1.6)\n",
            "Requirement already satisfied: jsonpatch>=1.22 in c:\\users\\issaq\\downloads\\sofe3980u-lab5-main\\sofe3980u-lab5-main\\lab5\\lib\\site-packages (from great_expectations==0.17.14) (1.33)\n",
            "Requirement already satisfied: jsonschema>=2.5.1 in c:\\users\\issaq\\downloads\\sofe3980u-lab5-main\\sofe3980u-lab5-main\\lab5\\lib\\site-packages (from great_expectations==0.17.14) (4.23.0)\n",
            "Requirement already satisfied: makefun<2,>=1.7.0 in c:\\users\\issaq\\downloads\\sofe3980u-lab5-main\\sofe3980u-lab5-main\\lab5\\lib\\site-packages (from great_expectations==0.17.14) (1.15.6)\n",
            "Requirement already satisfied: marshmallow<4.0.0,>=3.7.1 in c:\\users\\issaq\\downloads\\sofe3980u-lab5-main\\sofe3980u-lab5-main\\lab5\\lib\\site-packages (from great_expectations==0.17.14) (3.26.1)\n",
            "Requirement already satisfied: mistune>=0.8.4 in c:\\users\\issaq\\downloads\\sofe3980u-lab5-main\\sofe3980u-lab5-main\\lab5\\lib\\site-packages (from great_expectations==0.17.14) (3.1.3)\n",
            "Requirement already satisfied: nbformat>=5.0 in c:\\users\\issaq\\downloads\\sofe3980u-lab5-main\\sofe3980u-lab5-main\\lab5\\lib\\site-packages (from great_expectations==0.17.14) (5.10.4)\n",
            "Requirement already satisfied: notebook>=6.4.10 in c:\\users\\issaq\\downloads\\sofe3980u-lab5-main\\sofe3980u-lab5-main\\lab5\\lib\\site-packages (from great_expectations==0.17.14) (7.3.3)\n",
            "Requirement already satisfied: packaging in c:\\users\\issaq\\downloads\\sofe3980u-lab5-main\\sofe3980u-lab5-main\\lab5\\lib\\site-packages (from great_expectations==0.17.14) (24.2)\n",
            "Requirement already satisfied: pydantic<2.0,>=1.9.2 in c:\\users\\issaq\\downloads\\sofe3980u-lab5-main\\sofe3980u-lab5-main\\lab5\\lib\\site-packages (from great_expectations==0.17.14) (1.10.21)\n",
            "Requirement already satisfied: pyparsing>=2.4 in c:\\users\\issaq\\downloads\\sofe3980u-lab5-main\\sofe3980u-lab5-main\\lab5\\lib\\site-packages (from great_expectations==0.17.14) (3.2.3)\n",
            "Requirement already satisfied: python-dateutil>=2.8.1 in c:\\users\\issaq\\downloads\\sofe3980u-lab5-main\\sofe3980u-lab5-main\\lab5\\lib\\site-packages (from great_expectations==0.17.14) (2.9.0.post0)\n",
            "Requirement already satisfied: pytz>=2021.3 in c:\\users\\issaq\\downloads\\sofe3980u-lab5-main\\sofe3980u-lab5-main\\lab5\\lib\\site-packages (from great_expectations==0.17.14) (2025.2)\n",
            "Requirement already satisfied: requests>=2.20 in c:\\users\\issaq\\downloads\\sofe3980u-lab5-main\\sofe3980u-lab5-main\\lab5\\lib\\site-packages (from great_expectations==0.17.14) (2.32.3)\n",
            "Requirement already satisfied: ruamel.yaml<0.17.18,>=0.16 in c:\\users\\issaq\\downloads\\sofe3980u-lab5-main\\sofe3980u-lab5-main\\lab5\\lib\\site-packages (from great_expectations==0.17.14) (0.17.17)\n",
            "Requirement already satisfied: scipy>=1.6.0 in c:\\users\\issaq\\downloads\\sofe3980u-lab5-main\\sofe3980u-lab5-main\\lab5\\lib\\site-packages (from great_expectations==0.17.14) (1.15.2)\n",
            "Requirement already satisfied: tqdm>=4.59.0 in c:\\users\\issaq\\downloads\\sofe3980u-lab5-main\\sofe3980u-lab5-main\\lab5\\lib\\site-packages (from great_expectations==0.17.14) (4.67.1)\n",
            "Requirement already satisfied: typing-extensions>=3.10.0.0 in c:\\users\\issaq\\downloads\\sofe3980u-lab5-main\\sofe3980u-lab5-main\\lab5\\lib\\site-packages (from great_expectations==0.17.14) (4.12.2)\n",
            "Requirement already satisfied: tzlocal>=1.2 in c:\\users\\issaq\\downloads\\sofe3980u-lab5-main\\sofe3980u-lab5-main\\lab5\\lib\\site-packages (from great_expectations==0.17.14) (5.3.1)\n",
            "Requirement already satisfied: urllib3>=1.26 in c:\\users\\issaq\\downloads\\sofe3980u-lab5-main\\sofe3980u-lab5-main\\lab5\\lib\\site-packages (from great_expectations==0.17.14) (2.3.0)\n",
            "Requirement already satisfied: numpy>=1.22.4 in c:\\users\\issaq\\downloads\\sofe3980u-lab5-main\\sofe3980u-lab5-main\\lab5\\lib\\site-packages (from great_expectations==0.17.14) (1.26.4)\n",
            "Requirement already satisfied: pandas>=1.3.0 in c:\\users\\issaq\\downloads\\sofe3980u-lab5-main\\sofe3980u-lab5-main\\lab5\\lib\\site-packages (from great_expectations==0.17.14) (2.1.4)\n",
            "Requirement already satisfied: entrypoints in c:\\users\\issaq\\downloads\\sofe3980u-lab5-main\\sofe3980u-lab5-main\\lab5\\lib\\site-packages (from altair<5.0.0,>=4.2.1->great_expectations==0.17.14) (0.4)\n",
            "Requirement already satisfied: toolz in c:\\users\\issaq\\downloads\\sofe3980u-lab5-main\\sofe3980u-lab5-main\\lab5\\lib\\site-packages (from altair<5.0.0,>=4.2.1->great_expectations==0.17.14) (1.0.0)\n",
            "Requirement already satisfied: cffi>=1.12 in c:\\users\\issaq\\downloads\\sofe3980u-lab5-main\\sofe3980u-lab5-main\\lab5\\lib\\site-packages (from cryptography>=3.2->great_expectations==0.17.14) (1.17.1)\n",
            "Requirement already satisfied: decorator in c:\\users\\issaq\\downloads\\sofe3980u-lab5-main\\sofe3980u-lab5-main\\lab5\\lib\\site-packages (from Ipython>=7.16.3->great_expectations==0.17.14) (5.2.1)\n",
            "Requirement already satisfied: ipython-pygments-lexers in c:\\users\\issaq\\downloads\\sofe3980u-lab5-main\\sofe3980u-lab5-main\\lab5\\lib\\site-packages (from Ipython>=7.16.3->great_expectations==0.17.14) (1.1.1)\n",
            "Requirement already satisfied: jedi>=0.16 in c:\\users\\issaq\\downloads\\sofe3980u-lab5-main\\sofe3980u-lab5-main\\lab5\\lib\\site-packages (from Ipython>=7.16.3->great_expectations==0.17.14) (0.19.2)\n",
            "Requirement already satisfied: matplotlib-inline in c:\\users\\issaq\\downloads\\sofe3980u-lab5-main\\sofe3980u-lab5-main\\lab5\\lib\\site-packages (from Ipython>=7.16.3->great_expectations==0.17.14) (0.1.7)\n",
            "Requirement already satisfied: prompt_toolkit<3.1.0,>=3.0.41 in c:\\users\\issaq\\downloads\\sofe3980u-lab5-main\\sofe3980u-lab5-main\\lab5\\lib\\site-packages (from Ipython>=7.16.3->great_expectations==0.17.14) (3.0.50)\n",
            "Requirement already satisfied: pygments>=2.4.0 in c:\\users\\issaq\\downloads\\sofe3980u-lab5-main\\sofe3980u-lab5-main\\lab5\\lib\\site-packages (from Ipython>=7.16.3->great_expectations==0.17.14) (2.19.1)\n",
            "Requirement already satisfied: stack_data in c:\\users\\issaq\\downloads\\sofe3980u-lab5-main\\sofe3980u-lab5-main\\lab5\\lib\\site-packages (from Ipython>=7.16.3->great_expectations==0.17.14) (0.6.3)\n",
            "Requirement already satisfied: traitlets>=5.13.0 in c:\\users\\issaq\\downloads\\sofe3980u-lab5-main\\sofe3980u-lab5-main\\lab5\\lib\\site-packages (from Ipython>=7.16.3->great_expectations==0.17.14) (5.14.3)\n",
            "Requirement already satisfied: comm>=0.1.3 in c:\\users\\issaq\\downloads\\sofe3980u-lab5-main\\sofe3980u-lab5-main\\lab5\\lib\\site-packages (from ipywidgets>=7.5.1->great_expectations==0.17.14) (0.2.2)\n",
            "Requirement already satisfied: widgetsnbextension~=4.0.12 in c:\\users\\issaq\\downloads\\sofe3980u-lab5-main\\sofe3980u-lab5-main\\lab5\\lib\\site-packages (from ipywidgets>=7.5.1->great_expectations==0.17.14) (4.0.13)\n",
            "Requirement already satisfied: jupyterlab-widgets~=3.0.12 in c:\\users\\issaq\\downloads\\sofe3980u-lab5-main\\sofe3980u-lab5-main\\lab5\\lib\\site-packages (from ipywidgets>=7.5.1->great_expectations==0.17.14) (3.0.13)\n",
            "Requirement already satisfied: MarkupSafe>=2.0 in c:\\users\\issaq\\downloads\\sofe3980u-lab5-main\\sofe3980u-lab5-main\\lab5\\lib\\site-packages (from jinja2>=2.10->great_expectations==0.17.14) (3.0.2)\n",
            "Requirement already satisfied: jsonpointer>=1.9 in c:\\users\\issaq\\downloads\\sofe3980u-lab5-main\\sofe3980u-lab5-main\\lab5\\lib\\site-packages (from jsonpatch>=1.22->great_expectations==0.17.14) (3.0.0)\n",
            "Requirement already satisfied: attrs>=22.2.0 in c:\\users\\issaq\\downloads\\sofe3980u-lab5-main\\sofe3980u-lab5-main\\lab5\\lib\\site-packages (from jsonschema>=2.5.1->great_expectations==0.17.14) (25.3.0)\n",
            "Requirement already satisfied: jsonschema-specifications>=2023.03.6 in c:\\users\\issaq\\downloads\\sofe3980u-lab5-main\\sofe3980u-lab5-main\\lab5\\lib\\site-packages (from jsonschema>=2.5.1->great_expectations==0.17.14) (2024.10.1)\n",
            "Requirement already satisfied: referencing>=0.28.4 in c:\\users\\issaq\\downloads\\sofe3980u-lab5-main\\sofe3980u-lab5-main\\lab5\\lib\\site-packages (from jsonschema>=2.5.1->great_expectations==0.17.14) (0.36.2)\n",
            "Requirement already satisfied: rpds-py>=0.7.1 in c:\\users\\issaq\\downloads\\sofe3980u-lab5-main\\sofe3980u-lab5-main\\lab5\\lib\\site-packages (from jsonschema>=2.5.1->great_expectations==0.17.14) (0.23.1)\n",
            "Requirement already satisfied: fastjsonschema>=2.15 in c:\\users\\issaq\\downloads\\sofe3980u-lab5-main\\sofe3980u-lab5-main\\lab5\\lib\\site-packages (from nbformat>=5.0->great_expectations==0.17.14) (2.21.1)\n",
            "Requirement already satisfied: jupyter-core!=5.0.*,>=4.12 in c:\\users\\issaq\\downloads\\sofe3980u-lab5-main\\sofe3980u-lab5-main\\lab5\\lib\\site-packages (from nbformat>=5.0->great_expectations==0.17.14) (5.7.2)\n",
            "Requirement already satisfied: jupyter-server<3,>=2.4.0 in c:\\users\\issaq\\downloads\\sofe3980u-lab5-main\\sofe3980u-lab5-main\\lab5\\lib\\site-packages (from notebook>=6.4.10->great_expectations==0.17.14) (2.15.0)\n",
            "Requirement already satisfied: jupyterlab-server<3,>=2.27.1 in c:\\users\\issaq\\downloads\\sofe3980u-lab5-main\\sofe3980u-lab5-main\\lab5\\lib\\site-packages (from notebook>=6.4.10->great_expectations==0.17.14) (2.27.3)\n",
            "Requirement already satisfied: jupyterlab<4.4,>=4.3.6 in c:\\users\\issaq\\downloads\\sofe3980u-lab5-main\\sofe3980u-lab5-main\\lab5\\lib\\site-packages (from notebook>=6.4.10->great_expectations==0.17.14) (4.3.6)\n",
            "Requirement already satisfied: notebook-shim<0.3,>=0.2 in c:\\users\\issaq\\downloads\\sofe3980u-lab5-main\\sofe3980u-lab5-main\\lab5\\lib\\site-packages (from notebook>=6.4.10->great_expectations==0.17.14) (0.2.4)\n",
            "Requirement already satisfied: tornado>=6.2.0 in c:\\users\\issaq\\downloads\\sofe3980u-lab5-main\\sofe3980u-lab5-main\\lab5\\lib\\site-packages (from notebook>=6.4.10->great_expectations==0.17.14) (6.4.2)\n",
            "Requirement already satisfied: tzdata>=2022.1 in c:\\users\\issaq\\downloads\\sofe3980u-lab5-main\\sofe3980u-lab5-main\\lab5\\lib\\site-packages (from pandas>=1.3.0->great_expectations==0.17.14) (2025.2)\n",
            "Requirement already satisfied: six>=1.5 in c:\\users\\issaq\\downloads\\sofe3980u-lab5-main\\sofe3980u-lab5-main\\lab5\\lib\\site-packages (from python-dateutil>=2.8.1->great_expectations==0.17.14) (1.17.0)\n",
            "Requirement already satisfied: charset-normalizer<4,>=2 in c:\\users\\issaq\\downloads\\sofe3980u-lab5-main\\sofe3980u-lab5-main\\lab5\\lib\\site-packages (from requests>=2.20->great_expectations==0.17.14) (3.4.1)\n",
            "Requirement already satisfied: idna<4,>=2.5 in c:\\users\\issaq\\downloads\\sofe3980u-lab5-main\\sofe3980u-lab5-main\\lab5\\lib\\site-packages (from requests>=2.20->great_expectations==0.17.14) (3.10)\n",
            "Requirement already satisfied: certifi>=2017.4.17 in c:\\users\\issaq\\downloads\\sofe3980u-lab5-main\\sofe3980u-lab5-main\\lab5\\lib\\site-packages (from requests>=2.20->great_expectations==0.17.14) (2025.1.31)\n",
            "Requirement already satisfied: pycparser in c:\\users\\issaq\\downloads\\sofe3980u-lab5-main\\sofe3980u-lab5-main\\lab5\\lib\\site-packages (from cffi>=1.12->cryptography>=3.2->great_expectations==0.17.14) (2.22)\n",
            "Requirement already satisfied: parso<0.9.0,>=0.8.4 in c:\\users\\issaq\\downloads\\sofe3980u-lab5-main\\sofe3980u-lab5-main\\lab5\\lib\\site-packages (from jedi>=0.16->Ipython>=7.16.3->great_expectations==0.17.14) (0.8.4)\n",
            "Requirement already satisfied: platformdirs>=2.5 in c:\\users\\issaq\\downloads\\sofe3980u-lab5-main\\sofe3980u-lab5-main\\lab5\\lib\\site-packages (from jupyter-core!=5.0.*,>=4.12->nbformat>=5.0->great_expectations==0.17.14) (4.3.7)\n",
            "Requirement already satisfied: pywin32>=300 in c:\\users\\issaq\\downloads\\sofe3980u-lab5-main\\sofe3980u-lab5-main\\lab5\\lib\\site-packages (from jupyter-core!=5.0.*,>=4.12->nbformat>=5.0->great_expectations==0.17.14) (310)\n",
            "Requirement already satisfied: anyio>=3.1.0 in c:\\users\\issaq\\downloads\\sofe3980u-lab5-main\\sofe3980u-lab5-main\\lab5\\lib\\site-packages (from jupyter-server<3,>=2.4.0->notebook>=6.4.10->great_expectations==0.17.14) (4.9.0)\n",
            "Requirement already satisfied: argon2-cffi>=21.1 in c:\\users\\issaq\\downloads\\sofe3980u-lab5-main\\sofe3980u-lab5-main\\lab5\\lib\\site-packages (from jupyter-server<3,>=2.4.0->notebook>=6.4.10->great_expectations==0.17.14) (23.1.0)\n",
            "Requirement already satisfied: jupyter-client>=7.4.4 in c:\\users\\issaq\\downloads\\sofe3980u-lab5-main\\sofe3980u-lab5-main\\lab5\\lib\\site-packages (from jupyter-server<3,>=2.4.0->notebook>=6.4.10->great_expectations==0.17.14) (8.6.3)\n",
            "Requirement already satisfied: jupyter-events>=0.11.0 in c:\\users\\issaq\\downloads\\sofe3980u-lab5-main\\sofe3980u-lab5-main\\lab5\\lib\\site-packages (from jupyter-server<3,>=2.4.0->notebook>=6.4.10->great_expectations==0.17.14) (0.12.0)\n",
            "Requirement already satisfied: jupyter-server-terminals>=0.4.4 in c:\\users\\issaq\\downloads\\sofe3980u-lab5-main\\sofe3980u-lab5-main\\lab5\\lib\\site-packages (from jupyter-server<3,>=2.4.0->notebook>=6.4.10->great_expectations==0.17.14) (0.5.3)\n",
            "Requirement already satisfied: nbconvert>=6.4.4 in c:\\users\\issaq\\downloads\\sofe3980u-lab5-main\\sofe3980u-lab5-main\\lab5\\lib\\site-packages (from jupyter-server<3,>=2.4.0->notebook>=6.4.10->great_expectations==0.17.14) (7.16.6)\n",
            "Requirement already satisfied: overrides>=5.0 in c:\\users\\issaq\\downloads\\sofe3980u-lab5-main\\sofe3980u-lab5-main\\lab5\\lib\\site-packages (from jupyter-server<3,>=2.4.0->notebook>=6.4.10->great_expectations==0.17.14) (7.7.0)\n",
            "Requirement already satisfied: prometheus-client>=0.9 in c:\\users\\issaq\\downloads\\sofe3980u-lab5-main\\sofe3980u-lab5-main\\lab5\\lib\\site-packages (from jupyter-server<3,>=2.4.0->notebook>=6.4.10->great_expectations==0.17.14) (0.21.1)\n",
            "Requirement already satisfied: pywinpty>=2.0.1 in c:\\users\\issaq\\downloads\\sofe3980u-lab5-main\\sofe3980u-lab5-main\\lab5\\lib\\site-packages (from jupyter-server<3,>=2.4.0->notebook>=6.4.10->great_expectations==0.17.14) (2.0.15)\n",
            "Requirement already satisfied: pyzmq>=24 in c:\\users\\issaq\\downloads\\sofe3980u-lab5-main\\sofe3980u-lab5-main\\lab5\\lib\\site-packages (from jupyter-server<3,>=2.4.0->notebook>=6.4.10->great_expectations==0.17.14) (26.3.0)\n",
            "Requirement already satisfied: send2trash>=1.8.2 in c:\\users\\issaq\\downloads\\sofe3980u-lab5-main\\sofe3980u-lab5-main\\lab5\\lib\\site-packages (from jupyter-server<3,>=2.4.0->notebook>=6.4.10->great_expectations==0.17.14) (1.8.3)\n",
            "Requirement already satisfied: terminado>=0.8.3 in c:\\users\\issaq\\downloads\\sofe3980u-lab5-main\\sofe3980u-lab5-main\\lab5\\lib\\site-packages (from jupyter-server<3,>=2.4.0->notebook>=6.4.10->great_expectations==0.17.14) (0.18.1)\n",
            "Requirement already satisfied: websocket-client>=1.7 in c:\\users\\issaq\\downloads\\sofe3980u-lab5-main\\sofe3980u-lab5-main\\lab5\\lib\\site-packages (from jupyter-server<3,>=2.4.0->notebook>=6.4.10->great_expectations==0.17.14) (1.8.0)\n",
            "Requirement already satisfied: async-lru>=1.0.0 in c:\\users\\issaq\\downloads\\sofe3980u-lab5-main\\sofe3980u-lab5-main\\lab5\\lib\\site-packages (from jupyterlab<4.4,>=4.3.6->notebook>=6.4.10->great_expectations==0.17.14) (2.0.5)\n",
            "Requirement already satisfied: httpx>=0.25.0 in c:\\users\\issaq\\downloads\\sofe3980u-lab5-main\\sofe3980u-lab5-main\\lab5\\lib\\site-packages (from jupyterlab<4.4,>=4.3.6->notebook>=6.4.10->great_expectations==0.17.14) (0.28.1)\n",
            "Requirement already satisfied: ipykernel>=6.5.0 in c:\\users\\issaq\\downloads\\sofe3980u-lab5-main\\sofe3980u-lab5-main\\lab5\\lib\\site-packages (from jupyterlab<4.4,>=4.3.6->notebook>=6.4.10->great_expectations==0.17.14) (6.29.5)\n",
            "Requirement already satisfied: jupyter-lsp>=2.0.0 in c:\\users\\issaq\\downloads\\sofe3980u-lab5-main\\sofe3980u-lab5-main\\lab5\\lib\\site-packages (from jupyterlab<4.4,>=4.3.6->notebook>=6.4.10->great_expectations==0.17.14) (2.2.5)\n",
            "Requirement already satisfied: setuptools>=40.8.0 in c:\\users\\issaq\\downloads\\sofe3980u-lab5-main\\sofe3980u-lab5-main\\lab5\\lib\\site-packages (from jupyterlab<4.4,>=4.3.6->notebook>=6.4.10->great_expectations==0.17.14) (65.5.0)\n",
            "Requirement already satisfied: babel>=2.10 in c:\\users\\issaq\\downloads\\sofe3980u-lab5-main\\sofe3980u-lab5-main\\lab5\\lib\\site-packages (from jupyterlab-server<3,>=2.27.1->notebook>=6.4.10->great_expectations==0.17.14) (2.17.0)\n",
            "Requirement already satisfied: json5>=0.9.0 in c:\\users\\issaq\\downloads\\sofe3980u-lab5-main\\sofe3980u-lab5-main\\lab5\\lib\\site-packages (from jupyterlab-server<3,>=2.27.1->notebook>=6.4.10->great_expectations==0.17.14) (0.10.0)\n",
            "Requirement already satisfied: wcwidth in c:\\users\\issaq\\downloads\\sofe3980u-lab5-main\\sofe3980u-lab5-main\\lab5\\lib\\site-packages (from prompt_toolkit<3.1.0,>=3.0.41->Ipython>=7.16.3->great_expectations==0.17.14) (0.2.13)\n",
            "Requirement already satisfied: executing>=1.2.0 in c:\\users\\issaq\\downloads\\sofe3980u-lab5-main\\sofe3980u-lab5-main\\lab5\\lib\\site-packages (from stack_data->Ipython>=7.16.3->great_expectations==0.17.14) (2.2.0)\n",
            "Requirement already satisfied: asttokens>=2.1.0 in c:\\users\\issaq\\downloads\\sofe3980u-lab5-main\\sofe3980u-lab5-main\\lab5\\lib\\site-packages (from stack_data->Ipython>=7.16.3->great_expectations==0.17.14) (3.0.0)\n",
            "Requirement already satisfied: pure-eval in c:\\users\\issaq\\downloads\\sofe3980u-lab5-main\\sofe3980u-lab5-main\\lab5\\lib\\site-packages (from stack_data->Ipython>=7.16.3->great_expectations==0.17.14) (0.2.3)\n",
            "Requirement already satisfied: sniffio>=1.1 in c:\\users\\issaq\\downloads\\sofe3980u-lab5-main\\sofe3980u-lab5-main\\lab5\\lib\\site-packages (from anyio>=3.1.0->jupyter-server<3,>=2.4.0->notebook>=6.4.10->great_expectations==0.17.14) (1.3.1)\n",
            "Requirement already satisfied: argon2-cffi-bindings in c:\\users\\issaq\\downloads\\sofe3980u-lab5-main\\sofe3980u-lab5-main\\lab5\\lib\\site-packages (from argon2-cffi>=21.1->jupyter-server<3,>=2.4.0->notebook>=6.4.10->great_expectations==0.17.14) (21.2.0)\n",
            "Requirement already satisfied: httpcore==1.* in c:\\users\\issaq\\downloads\\sofe3980u-lab5-main\\sofe3980u-lab5-main\\lab5\\lib\\site-packages (from httpx>=0.25.0->jupyterlab<4.4,>=4.3.6->notebook>=6.4.10->great_expectations==0.17.14) (1.0.7)\n",
            "Requirement already satisfied: h11<0.15,>=0.13 in c:\\users\\issaq\\downloads\\sofe3980u-lab5-main\\sofe3980u-lab5-main\\lab5\\lib\\site-packages (from httpcore==1.*->httpx>=0.25.0->jupyterlab<4.4,>=4.3.6->notebook>=6.4.10->great_expectations==0.17.14) (0.14.0)\n",
            "Requirement already satisfied: debugpy>=1.6.5 in c:\\users\\issaq\\downloads\\sofe3980u-lab5-main\\sofe3980u-lab5-main\\lab5\\lib\\site-packages (from ipykernel>=6.5.0->jupyterlab<4.4,>=4.3.6->notebook>=6.4.10->great_expectations==0.17.14) (1.8.13)\n",
            "Requirement already satisfied: nest-asyncio in c:\\users\\issaq\\downloads\\sofe3980u-lab5-main\\sofe3980u-lab5-main\\lab5\\lib\\site-packages (from ipykernel>=6.5.0->jupyterlab<4.4,>=4.3.6->notebook>=6.4.10->great_expectations==0.17.14) (1.6.0)\n",
            "Requirement already satisfied: psutil in c:\\users\\issaq\\downloads\\sofe3980u-lab5-main\\sofe3980u-lab5-main\\lab5\\lib\\site-packages (from ipykernel>=6.5.0->jupyterlab<4.4,>=4.3.6->notebook>=6.4.10->great_expectations==0.17.14) (7.0.0)\n",
            "Requirement already satisfied: python-json-logger>=2.0.4 in c:\\users\\issaq\\downloads\\sofe3980u-lab5-main\\sofe3980u-lab5-main\\lab5\\lib\\site-packages (from jupyter-events>=0.11.0->jupyter-server<3,>=2.4.0->notebook>=6.4.10->great_expectations==0.17.14) (3.3.0)\n",
            "Requirement already satisfied: pyyaml>=5.3 in c:\\users\\issaq\\downloads\\sofe3980u-lab5-main\\sofe3980u-lab5-main\\lab5\\lib\\site-packages (from jupyter-events>=0.11.0->jupyter-server<3,>=2.4.0->notebook>=6.4.10->great_expectations==0.17.14) (6.0.2)\n",
            "Requirement already satisfied: rfc3339-validator in c:\\users\\issaq\\downloads\\sofe3980u-lab5-main\\sofe3980u-lab5-main\\lab5\\lib\\site-packages (from jupyter-events>=0.11.0->jupyter-server<3,>=2.4.0->notebook>=6.4.10->great_expectations==0.17.14) (0.1.4)\n",
            "Requirement already satisfied: rfc3986-validator>=0.1.1 in c:\\users\\issaq\\downloads\\sofe3980u-lab5-main\\sofe3980u-lab5-main\\lab5\\lib\\site-packages (from jupyter-events>=0.11.0->jupyter-server<3,>=2.4.0->notebook>=6.4.10->great_expectations==0.17.14) (0.1.1)\n",
            "Requirement already satisfied: beautifulsoup4 in c:\\users\\issaq\\downloads\\sofe3980u-lab5-main\\sofe3980u-lab5-main\\lab5\\lib\\site-packages (from nbconvert>=6.4.4->jupyter-server<3,>=2.4.0->notebook>=6.4.10->great_expectations==0.17.14) (4.13.3)\n",
            "Requirement already satisfied: bleach!=5.0.0 in c:\\users\\issaq\\downloads\\sofe3980u-lab5-main\\sofe3980u-lab5-main\\lab5\\lib\\site-packages (from bleach[css]!=5.0.0->nbconvert>=6.4.4->jupyter-server<3,>=2.4.0->notebook>=6.4.10->great_expectations==0.17.14) (6.2.0)\n",
            "Requirement already satisfied: defusedxml in c:\\users\\issaq\\downloads\\sofe3980u-lab5-main\\sofe3980u-lab5-main\\lab5\\lib\\site-packages (from nbconvert>=6.4.4->jupyter-server<3,>=2.4.0->notebook>=6.4.10->great_expectations==0.17.14) (0.7.1)\n",
            "Requirement already satisfied: jupyterlab-pygments in c:\\users\\issaq\\downloads\\sofe3980u-lab5-main\\sofe3980u-lab5-main\\lab5\\lib\\site-packages (from nbconvert>=6.4.4->jupyter-server<3,>=2.4.0->notebook>=6.4.10->great_expectations==0.17.14) (0.3.0)\n",
            "Requirement already satisfied: nbclient>=0.5.0 in c:\\users\\issaq\\downloads\\sofe3980u-lab5-main\\sofe3980u-lab5-main\\lab5\\lib\\site-packages (from nbconvert>=6.4.4->jupyter-server<3,>=2.4.0->notebook>=6.4.10->great_expectations==0.17.14) (0.10.2)\n",
            "Requirement already satisfied: pandocfilters>=1.4.1 in c:\\users\\issaq\\downloads\\sofe3980u-lab5-main\\sofe3980u-lab5-main\\lab5\\lib\\site-packages (from nbconvert>=6.4.4->jupyter-server<3,>=2.4.0->notebook>=6.4.10->great_expectations==0.17.14) (1.5.1)\n",
            "Requirement already satisfied: webencodings in c:\\users\\issaq\\downloads\\sofe3980u-lab5-main\\sofe3980u-lab5-main\\lab5\\lib\\site-packages (from bleach!=5.0.0->bleach[css]!=5.0.0->nbconvert>=6.4.4->jupyter-server<3,>=2.4.0->notebook>=6.4.10->great_expectations==0.17.14) (0.5.1)\n",
            "Requirement already satisfied: tinycss2<1.5,>=1.1.0 in c:\\users\\issaq\\downloads\\sofe3980u-lab5-main\\sofe3980u-lab5-main\\lab5\\lib\\site-packages (from bleach[css]!=5.0.0->nbconvert>=6.4.4->jupyter-server<3,>=2.4.0->notebook>=6.4.10->great_expectations==0.17.14) (1.4.0)\n",
            "Requirement already satisfied: fqdn in c:\\users\\issaq\\downloads\\sofe3980u-lab5-main\\sofe3980u-lab5-main\\lab5\\lib\\site-packages (from jsonschema[format-nongpl]>=4.18.0->jupyter-events>=0.11.0->jupyter-server<3,>=2.4.0->notebook>=6.4.10->great_expectations==0.17.14) (1.5.1)\n",
            "Requirement already satisfied: isoduration in c:\\users\\issaq\\downloads\\sofe3980u-lab5-main\\sofe3980u-lab5-main\\lab5\\lib\\site-packages (from jsonschema[format-nongpl]>=4.18.0->jupyter-events>=0.11.0->jupyter-server<3,>=2.4.0->notebook>=6.4.10->great_expectations==0.17.14) (20.11.0)\n",
            "Requirement already satisfied: uri-template in c:\\users\\issaq\\downloads\\sofe3980u-lab5-main\\sofe3980u-lab5-main\\lab5\\lib\\site-packages (from jsonschema[format-nongpl]>=4.18.0->jupyter-events>=0.11.0->jupyter-server<3,>=2.4.0->notebook>=6.4.10->great_expectations==0.17.14) (1.3.0)\n",
            "Requirement already satisfied: webcolors>=24.6.0 in c:\\users\\issaq\\downloads\\sofe3980u-lab5-main\\sofe3980u-lab5-main\\lab5\\lib\\site-packages (from jsonschema[format-nongpl]>=4.18.0->jupyter-events>=0.11.0->jupyter-server<3,>=2.4.0->notebook>=6.4.10->great_expectations==0.17.14) (24.11.1)\n",
            "Requirement already satisfied: soupsieve>1.2 in c:\\users\\issaq\\downloads\\sofe3980u-lab5-main\\sofe3980u-lab5-main\\lab5\\lib\\site-packages (from beautifulsoup4->nbconvert>=6.4.4->jupyter-server<3,>=2.4.0->notebook>=6.4.10->great_expectations==0.17.14) (2.6)\n",
            "Requirement already satisfied: arrow>=0.15.0 in c:\\users\\issaq\\downloads\\sofe3980u-lab5-main\\sofe3980u-lab5-main\\lab5\\lib\\site-packages (from isoduration->jsonschema[format-nongpl]>=4.18.0->jupyter-events>=0.11.0->jupyter-server<3,>=2.4.0->notebook>=6.4.10->great_expectations==0.17.14) (1.3.0)\n",
            "Requirement already satisfied: types-python-dateutil>=2.8.10 in c:\\users\\issaq\\downloads\\sofe3980u-lab5-main\\sofe3980u-lab5-main\\lab5\\lib\\site-packages (from arrow>=0.15.0->isoduration->jsonschema[format-nongpl]>=4.18.0->jupyter-events>=0.11.0->jupyter-server<3,>=2.4.0->notebook>=6.4.10->great_expectations==0.17.14) (2.9.0.20241206)\n",
            "Note: you may need to restart the kernel to use updated packages.\n"
          ]
        }
      ],
      "source": [
        "%pip install great_expectations==0.17.14"
      ]
    },
    {
      "cell_type": "markdown",
      "metadata": {
        "id": "fWSO9h40JZjg"
      },
      "source": [
        "##2. Import Necessary Libraries"
      ]
    },
    {
      "cell_type": "code",
      "execution_count": 53,
      "metadata": {
        "collapsed": true,
        "id": "77qWdq8yVVEl"
      },
      "outputs": [],
      "source": [
        "import pandas as pd\n",
        "import great_expectations as gx"
      ]
    },
    {
      "cell_type": "markdown",
      "metadata": {
        "id": "Fdt5KucDJu-h"
      },
      "source": [
        "##3. Load Labels.csv"
      ]
    },
    {
      "cell_type": "markdown",
      "metadata": {
        "id": "pP3MW4uUhwAR"
      },
      "source": [
        "Download and upload the [Labels.csv](https://github.com/zubxxr/SOFE3980U-Lab5/blob/main/Labels.csv) into this notebook, and then load the file."
      ]
    },
    {
      "cell_type": "code",
      "execution_count": 54,
      "metadata": {
        "id": "ogHUyzFKdS5z"
      },
      "outputs": [],
      "source": [
        "\n",
        "\n",
        "df = pd.read_csv(\"https://archive.ics.uci.edu/ml/machine-learning-databases/adult/adult.data\",\n",
        "                 names=[\"age\", \"workclass\", \"fnlwgt\", \"education\", \"education-num\", \"marital-status\",\n",
        "                        \"occupation\", \"relationship\", \"race\", \"sex\", \"capital-gain\", \"capital-loss\",\n",
        "                        \"hours-per-week\", \"native-country\", \"income\"])"
      ]
    },
    {
      "cell_type": "markdown",
      "metadata": {
        "id": "2BCIXXwdJyS7"
      },
      "source": [
        "##4. Preview the Dataset"
      ]
    },
    {
      "cell_type": "code",
      "execution_count": 55,
      "metadata": {
        "id": "OXpbbmRsVj0k"
      },
      "outputs": [
        {
          "data": {
            "text/html": [
              "<div>\n",
              "<style scoped>\n",
              "    .dataframe tbody tr th:only-of-type {\n",
              "        vertical-align: middle;\n",
              "    }\n",
              "\n",
              "    .dataframe tbody tr th {\n",
              "        vertical-align: top;\n",
              "    }\n",
              "\n",
              "    .dataframe thead th {\n",
              "        text-align: right;\n",
              "    }\n",
              "</style>\n",
              "<table border=\"1\" class=\"dataframe\">\n",
              "  <thead>\n",
              "    <tr style=\"text-align: right;\">\n",
              "      <th></th>\n",
              "      <th>age</th>\n",
              "      <th>workclass</th>\n",
              "      <th>fnlwgt</th>\n",
              "      <th>education</th>\n",
              "      <th>education-num</th>\n",
              "      <th>marital-status</th>\n",
              "      <th>occupation</th>\n",
              "      <th>relationship</th>\n",
              "      <th>race</th>\n",
              "      <th>sex</th>\n",
              "      <th>capital-gain</th>\n",
              "      <th>capital-loss</th>\n",
              "      <th>hours-per-week</th>\n",
              "      <th>native-country</th>\n",
              "      <th>income</th>\n",
              "    </tr>\n",
              "  </thead>\n",
              "  <tbody>\n",
              "    <tr>\n",
              "      <th>0</th>\n",
              "      <td>39</td>\n",
              "      <td>State-gov</td>\n",
              "      <td>77516</td>\n",
              "      <td>Bachelors</td>\n",
              "      <td>13</td>\n",
              "      <td>Never-married</td>\n",
              "      <td>Adm-clerical</td>\n",
              "      <td>Not-in-family</td>\n",
              "      <td>White</td>\n",
              "      <td>Male</td>\n",
              "      <td>2174</td>\n",
              "      <td>0</td>\n",
              "      <td>40</td>\n",
              "      <td>United-States</td>\n",
              "      <td>&lt;=50K</td>\n",
              "    </tr>\n",
              "    <tr>\n",
              "      <th>1</th>\n",
              "      <td>50</td>\n",
              "      <td>Self-emp-not-inc</td>\n",
              "      <td>83311</td>\n",
              "      <td>Bachelors</td>\n",
              "      <td>13</td>\n",
              "      <td>Married-civ-spouse</td>\n",
              "      <td>Exec-managerial</td>\n",
              "      <td>Husband</td>\n",
              "      <td>White</td>\n",
              "      <td>Male</td>\n",
              "      <td>0</td>\n",
              "      <td>0</td>\n",
              "      <td>13</td>\n",
              "      <td>United-States</td>\n",
              "      <td>&lt;=50K</td>\n",
              "    </tr>\n",
              "    <tr>\n",
              "      <th>2</th>\n",
              "      <td>38</td>\n",
              "      <td>Private</td>\n",
              "      <td>215646</td>\n",
              "      <td>HS-grad</td>\n",
              "      <td>9</td>\n",
              "      <td>Divorced</td>\n",
              "      <td>Handlers-cleaners</td>\n",
              "      <td>Not-in-family</td>\n",
              "      <td>White</td>\n",
              "      <td>Male</td>\n",
              "      <td>0</td>\n",
              "      <td>0</td>\n",
              "      <td>40</td>\n",
              "      <td>United-States</td>\n",
              "      <td>&lt;=50K</td>\n",
              "    </tr>\n",
              "    <tr>\n",
              "      <th>3</th>\n",
              "      <td>53</td>\n",
              "      <td>Private</td>\n",
              "      <td>234721</td>\n",
              "      <td>11th</td>\n",
              "      <td>7</td>\n",
              "      <td>Married-civ-spouse</td>\n",
              "      <td>Handlers-cleaners</td>\n",
              "      <td>Husband</td>\n",
              "      <td>Black</td>\n",
              "      <td>Male</td>\n",
              "      <td>0</td>\n",
              "      <td>0</td>\n",
              "      <td>40</td>\n",
              "      <td>United-States</td>\n",
              "      <td>&lt;=50K</td>\n",
              "    </tr>\n",
              "    <tr>\n",
              "      <th>4</th>\n",
              "      <td>28</td>\n",
              "      <td>Private</td>\n",
              "      <td>338409</td>\n",
              "      <td>Bachelors</td>\n",
              "      <td>13</td>\n",
              "      <td>Married-civ-spouse</td>\n",
              "      <td>Prof-specialty</td>\n",
              "      <td>Wife</td>\n",
              "      <td>Black</td>\n",
              "      <td>Female</td>\n",
              "      <td>0</td>\n",
              "      <td>0</td>\n",
              "      <td>40</td>\n",
              "      <td>Cuba</td>\n",
              "      <td>&lt;=50K</td>\n",
              "    </tr>\n",
              "  </tbody>\n",
              "</table>\n",
              "</div>"
            ],
            "text/plain": [
              "   age          workclass  fnlwgt   education  education-num  \\\n",
              "0   39          State-gov   77516   Bachelors             13   \n",
              "1   50   Self-emp-not-inc   83311   Bachelors             13   \n",
              "2   38            Private  215646     HS-grad              9   \n",
              "3   53            Private  234721        11th              7   \n",
              "4   28            Private  338409   Bachelors             13   \n",
              "\n",
              "        marital-status          occupation    relationship    race      sex  \\\n",
              "0        Never-married        Adm-clerical   Not-in-family   White     Male   \n",
              "1   Married-civ-spouse     Exec-managerial         Husband   White     Male   \n",
              "2             Divorced   Handlers-cleaners   Not-in-family   White     Male   \n",
              "3   Married-civ-spouse   Handlers-cleaners         Husband   Black     Male   \n",
              "4   Married-civ-spouse      Prof-specialty            Wife   Black   Female   \n",
              "\n",
              "   capital-gain  capital-loss  hours-per-week  native-country  income  \n",
              "0          2174             0              40   United-States   <=50K  \n",
              "1             0             0              13   United-States   <=50K  \n",
              "2             0             0              40   United-States   <=50K  \n",
              "3             0             0              40   United-States   <=50K  \n",
              "4             0             0              40            Cuba   <=50K  "
            ]
          },
          "execution_count": 55,
          "metadata": {},
          "output_type": "execute_result"
        }
      ],
      "source": [
        "df.head()"
      ]
    },
    {
      "cell_type": "markdown",
      "metadata": {
        "id": "WwljyFlFJ1A8"
      },
      "source": [
        "##5. Set Up Great Expectations Context and Data Source"
      ]
    },
    {
      "cell_type": "code",
      "execution_count": 57,
      "metadata": {
        "id": "SxSmTGmZVk5U"
      },
      "outputs": [],
      "source": [
        "context = gx.get_context()\n",
        "\n",
        "datasource = context.sources.add_pandas(name=\"my_pandas_datasource\")"
      ]
    },
    {
      "cell_type": "markdown",
      "metadata": {
        "id": "IHl4W07zJ5-A"
      },
      "source": [
        "##6. Define and Create a Data Batch"
      ]
    },
    {
      "cell_type": "code",
      "execution_count": 58,
      "metadata": {
        "id": "dTdpe1tVhpgp"
      },
      "outputs": [],
      "source": [
        "asset = datasource.add_dataframe_asset(name=\"labels_asset_v2\")\n",
        "batch_request = asset.build_batch_request(dataframe=df)\n",
        "\n",
        "validator = context.get_validator(batch_request=batch_request)\n"
      ]
    },
    {
      "cell_type": "markdown",
      "metadata": {
        "id": "JhVlKGYXJ8Tf"
      },
      "source": [
        "##7. Define Three Expectations for Column Values"
      ]
    },
    {
      "cell_type": "markdown",
      "metadata": {
        "id": "8ixvqF3OYnlt"
      },
      "source": [
        "Using this [link](https://greatexpectations.io/expectations/), choose three expectation functions and apply them to the labels dataset in a relevant manner.\n",
        "\n",
        "You should replace the 'ExpectColumnValuesToBeBetween' function with other functions you select from the link.\n",
        "\n",
        "You can also check the format/parameters required of each function when you click \"See more\" on the function."
      ]
    },
    {
      "cell_type": "code",
      "execution_count": 59,
      "metadata": {
        "id": "O2JMz9pScU6n"
      },
      "outputs": [
        {
          "data": {
            "application/vnd.jupyter.widget-view+json": {
              "model_id": "7dca69287e5144c3845ea38c6947a205",
              "version_major": 2,
              "version_minor": 0
            },
            "text/plain": [
              "Calculating Metrics:   0%|          | 0/8 [00:00<?, ?it/s]"
            ]
          },
          "metadata": {},
          "output_type": "display_data"
        },
        {
          "data": {
            "application/vnd.jupyter.widget-view+json": {
              "model_id": "44f29f35a8844d01b4c47b5d8760c400",
              "version_major": 2,
              "version_minor": 0
            },
            "text/plain": [
              "Calculating Metrics:   0%|          | 0/8 [00:00<?, ?it/s]"
            ]
          },
          "metadata": {},
          "output_type": "display_data"
        },
        {
          "data": {
            "application/vnd.jupyter.widget-view+json": {
              "model_id": "6f547af68b0345088283dec07b825223",
              "version_major": 2,
              "version_minor": 0
            },
            "text/plain": [
              "Calculating Metrics:   0%|          | 0/8 [00:00<?, ?it/s]"
            ]
          },
          "metadata": {},
          "output_type": "display_data"
        }
      ],
      "source": [
        "expectation_1 = validator.expect_column_values_to_be_between(\n",
        "    column=\"Car1_Location_X\",\n",
        "    min_value=0,\n",
        "    max_value=500\n",
        ")\n",
        "\n",
        "expectation_2 = validator.expect_column_values_to_match_regex(\n",
        "    column=\"Ground_Truth_View\",\n",
        "    regex=r\".*\\.png\"\n",
        ")\n",
        "\n",
        "expectation_3 = validator.expect_column_values_to_be_unique(\n",
        "    column=\"Timestamp\"\n",
        ")"
      ]
    },
    {
      "cell_type": "markdown",
      "metadata": {
        "id": "gaIvn5Y-Mazw"
      },
      "source": [
        "### Expectation 1"
      ]
    },
    {
      "cell_type": "code",
      "execution_count": 61,
      "metadata": {
        "id": "PJw-qrNyhsIX"
      },
      "outputs": [
        {
          "data": {
            "application/vnd.jupyter.widget-view+json": {
              "model_id": "2e04999bb71742b78115a88f6deb2b0d",
              "version_major": 2,
              "version_minor": 0
            },
            "text/plain": [
              "Calculating Metrics:   0%|          | 0/8 [00:00<?, ?it/s]"
            ]
          },
          "metadata": {},
          "output_type": "display_data"
        }
      ],
      "source": [
        "expectation_1 = validator.expect_column_values_to_be_between(\n",
        "    column=\"Car1_Location_X\",\n",
        "    min_value=0,\n",
        "    max_value=500\n",
        ")"
      ]
    },
    {
      "cell_type": "markdown",
      "metadata": {
        "id": "iaWGD8GL8jSA"
      },
      "source": [
        "### Validate Data Against Expectation 1"
      ]
    },
    {
      "cell_type": "code",
      "execution_count": 62,
      "metadata": {
        "id": "zE_iE0yr8k9y"
      },
      "outputs": [
        {
          "data": {
            "text/plain": [
              "{\n",
              "  \"success\": false,\n",
              "  \"result\": {\n",
              "    \"element_count\": 121,\n",
              "    \"unexpected_count\": 121,\n",
              "    \"unexpected_percent\": 100.0,\n",
              "    \"partial_unexpected_list\": [\n",
              "      -51.40297655,\n",
              "      -53.81963722,\n",
              "      -50.23914439,\n",
              "      -53.70722021,\n",
              "      -52.05372109,\n",
              "      -53.93975603,\n",
              "      -50.30258412,\n",
              "      -53.17447194,\n",
              "      -52.72667437,\n",
              "      -50.18179353,\n",
              "      -52.40699613,\n",
              "      -52.38122971,\n",
              "      -53.01906414,\n",
              "      -50.85034015,\n",
              "      -51.93070037,\n",
              "      -50.75051989,\n",
              "      -50.63015195,\n",
              "      -50.69818291,\n",
              "      -51.95966168,\n",
              "      -50.88663347\n",
              "    ],\n",
              "    \"missing_count\": 0,\n",
              "    \"missing_percent\": 0.0,\n",
              "    \"unexpected_percent_total\": 100.0,\n",
              "    \"unexpected_percent_nonmissing\": 100.0\n",
              "  },\n",
              "  \"meta\": {},\n",
              "  \"exception_info\": {\n",
              "    \"raised_exception\": false,\n",
              "    \"exception_traceback\": null,\n",
              "    \"exception_message\": null\n",
              "  }\n",
              "}"
            ]
          },
          "execution_count": 62,
          "metadata": {},
          "output_type": "execute_result"
        }
      ],
      "source": [
        "expectation_1"
      ]
    },
    {
      "cell_type": "markdown",
      "metadata": {
        "id": "37TjcPpxYiMZ"
      },
      "source": [
        "### Expectation 2"
      ]
    },
    {
      "cell_type": "code",
      "execution_count": 63,
      "metadata": {
        "id": "duJPbIxoYfNc"
      },
      "outputs": [
        {
          "data": {
            "application/vnd.jupyter.widget-view+json": {
              "model_id": "5ab1520a6b474624a07fdbea3908ef66",
              "version_major": 2,
              "version_minor": 0
            },
            "text/plain": [
              "Calculating Metrics:   0%|          | 0/8 [00:00<?, ?it/s]"
            ]
          },
          "metadata": {},
          "output_type": "display_data"
        }
      ],
      "source": [
        "expectation_2 = validator.expect_column_values_to_match_regex(\n",
        "    column=\"Ground_Truth_View\",\n",
        "    regex=r\".*\\.png\"\n",
        ")"
      ]
    },
    {
      "cell_type": "markdown",
      "metadata": {
        "id": "rCO1JE2O8lcf"
      },
      "source": [
        "### Validate Data Against Expectation 2"
      ]
    },
    {
      "cell_type": "code",
      "execution_count": 64,
      "metadata": {
        "id": "0HbLTxQJ8rXp"
      },
      "outputs": [
        {
          "data": {
            "text/plain": [
              "{\n",
              "  \"success\": true,\n",
              "  \"result\": {\n",
              "    \"element_count\": 121,\n",
              "    \"unexpected_count\": 0,\n",
              "    \"unexpected_percent\": 0.0,\n",
              "    \"partial_unexpected_list\": [],\n",
              "    \"missing_count\": 0,\n",
              "    \"missing_percent\": 0.0,\n",
              "    \"unexpected_percent_total\": 0.0,\n",
              "    \"unexpected_percent_nonmissing\": 0.0\n",
              "  },\n",
              "  \"meta\": {},\n",
              "  \"exception_info\": {\n",
              "    \"raised_exception\": false,\n",
              "    \"exception_traceback\": null,\n",
              "    \"exception_message\": null\n",
              "  }\n",
              "}"
            ]
          },
          "execution_count": 64,
          "metadata": {},
          "output_type": "execute_result"
        }
      ],
      "source": [
        "expectation_2"
      ]
    },
    {
      "cell_type": "markdown",
      "metadata": {
        "id": "JEJ28eyoYfra"
      },
      "source": [
        "### Expectation 3"
      ]
    },
    {
      "cell_type": "code",
      "execution_count": 65,
      "metadata": {
        "id": "tWFlN_hqYfkC"
      },
      "outputs": [
        {
          "data": {
            "application/vnd.jupyter.widget-view+json": {
              "model_id": "b174d793ca28495d9797ecf1ced22efe",
              "version_major": 2,
              "version_minor": 0
            },
            "text/plain": [
              "Calculating Metrics:   0%|          | 0/8 [00:00<?, ?it/s]"
            ]
          },
          "metadata": {},
          "output_type": "display_data"
        }
      ],
      "source": [
        "expectation_3 = validator.expect_column_values_to_be_unique(\n",
        "    column=\"Timestamp\"\n",
        ")"
      ]
    },
    {
      "cell_type": "markdown",
      "metadata": {
        "id": "D9rzavkK8mqM"
      },
      "source": [
        "### Validate Data Against Expectation 3"
      ]
    },
    {
      "cell_type": "code",
      "execution_count": 66,
      "metadata": {
        "id": "xGed5qns8om2"
      },
      "outputs": [
        {
          "data": {
            "text/plain": [
              "{\n",
              "  \"success\": true,\n",
              "  \"result\": {\n",
              "    \"element_count\": 121,\n",
              "    \"unexpected_count\": 0,\n",
              "    \"unexpected_percent\": 0.0,\n",
              "    \"partial_unexpected_list\": [],\n",
              "    \"missing_count\": 0,\n",
              "    \"missing_percent\": 0.0,\n",
              "    \"unexpected_percent_total\": 0.0,\n",
              "    \"unexpected_percent_nonmissing\": 0.0\n",
              "  },\n",
              "  \"meta\": {},\n",
              "  \"exception_info\": {\n",
              "    \"raised_exception\": false,\n",
              "    \"exception_traceback\": null,\n",
              "    \"exception_message\": null\n",
              "  }\n",
              "}"
            ]
          },
          "execution_count": 66,
          "metadata": {},
          "output_type": "execute_result"
        }
      ],
      "source": [
        "expectation_3"
      ]
    }
  ],
  "metadata": {
    "colab": {
      "provenance": []
    },
    "kernelspec": {
      "display_name": "lab5",
      "language": "python",
      "name": "python3"
    },
    "language_info": {
      "codemirror_mode": {
        "name": "ipython",
        "version": 3
      },
      "file_extension": ".py",
      "mimetype": "text/x-python",
      "name": "python",
      "nbconvert_exporter": "python",
      "pygments_lexer": "ipython3",
      "version": "3.11.0"
    }
  },
  "nbformat": 4,
  "nbformat_minor": 0
}
