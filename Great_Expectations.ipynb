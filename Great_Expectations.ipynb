{
  "cells": [
    {
      "cell_type": "markdown",
      "metadata": {
        "id": "S0KvgYslI64f"
      },
      "source": [
        "# Part 1: Great Expectations"
      ]
    },
    {
      "cell_type": "markdown",
      "metadata": {
        "id": "9R147FfXJG4F"
      },
      "source": [
        "## 1. Install Great Expectations Library\n"
      ]
    },
    {
      "cell_type": "markdown",
      "metadata": {
        "id": "C7l5IWpkL7il"
      },
      "source": [
        "This step installs the Great Expectations library, which is an open-source framework for data quality testing. It allows you to define, validate, and document expectations for your datasets. The library helps ensure that your data is clean, consistent, and meets predefined quality standards. By installing it via pip, we can use the various functionalities of Great Expectations in the notebook."
      ]
    },
    {
      "cell_type": "code",
      "execution_count": 1,
      "metadata": {
        "id": "TGqDcWNh3Y_-"
      },
      "outputs": [
        {
          "name": "stdout",
          "output_type": "stream",
          "text": [
            "Requirement already satisfied: great_expectations in c:\\users\\issaq\\downloads\\sofe3980u-lab5-main\\sofe3980u-lab5-main\\lab5\\lib\\site-packages (0.17.14)\n",
            "Requirement already satisfied: altair<5.0.0,>=4.2.1 in c:\\users\\issaq\\downloads\\sofe3980u-lab5-main\\sofe3980u-lab5-main\\lab5\\lib\\site-packages (from great_expectations) (4.2.2)\n",
            "Requirement already satisfied: Click!=8.1.4,>=7.1.2 in c:\\users\\issaq\\downloads\\sofe3980u-lab5-main\\sofe3980u-lab5-main\\lab5\\lib\\site-packages (from great_expectations) (8.1.8)\n",
            "Requirement already satisfied: colorama>=0.4.3 in c:\\users\\issaq\\downloads\\sofe3980u-lab5-main\\sofe3980u-lab5-main\\lab5\\lib\\site-packages (from great_expectations) (0.4.6)\n",
            "Requirement already satisfied: cryptography>=3.2 in c:\\users\\issaq\\downloads\\sofe3980u-lab5-main\\sofe3980u-lab5-main\\lab5\\lib\\site-packages (from great_expectations) (44.0.2)\n",
            "Requirement already satisfied: Ipython>=7.16.3 in c:\\users\\issaq\\downloads\\sofe3980u-lab5-main\\sofe3980u-lab5-main\\lab5\\lib\\site-packages (from great_expectations) (9.0.2)\n",
            "Requirement already satisfied: ipywidgets>=7.5.1 in c:\\users\\issaq\\downloads\\sofe3980u-lab5-main\\sofe3980u-lab5-main\\lab5\\lib\\site-packages (from great_expectations) (8.1.5)\n",
            "Requirement already satisfied: jinja2>=2.10 in c:\\users\\issaq\\downloads\\sofe3980u-lab5-main\\sofe3980u-lab5-main\\lab5\\lib\\site-packages (from great_expectations) (3.1.6)\n",
            "Requirement already satisfied: jsonpatch>=1.22 in c:\\users\\issaq\\downloads\\sofe3980u-lab5-main\\sofe3980u-lab5-main\\lab5\\lib\\site-packages (from great_expectations) (1.33)\n",
            "Requirement already satisfied: jsonschema>=2.5.1 in c:\\users\\issaq\\downloads\\sofe3980u-lab5-main\\sofe3980u-lab5-main\\lab5\\lib\\site-packages (from great_expectations) (4.23.0)\n",
            "Requirement already satisfied: makefun<2,>=1.7.0 in c:\\users\\issaq\\downloads\\sofe3980u-lab5-main\\sofe3980u-lab5-main\\lab5\\lib\\site-packages (from great_expectations) (1.15.6)\n",
            "Requirement already satisfied: marshmallow<4.0.0,>=3.7.1 in c:\\users\\issaq\\downloads\\sofe3980u-lab5-main\\sofe3980u-lab5-main\\lab5\\lib\\site-packages (from great_expectations) (3.26.1)\n",
            "Requirement already satisfied: mistune>=0.8.4 in c:\\users\\issaq\\downloads\\sofe3980u-lab5-main\\sofe3980u-lab5-main\\lab5\\lib\\site-packages (from great_expectations) (3.1.3)\n",
            "Requirement already satisfied: nbformat>=5.0 in c:\\users\\issaq\\downloads\\sofe3980u-lab5-main\\sofe3980u-lab5-main\\lab5\\lib\\site-packages (from great_expectations) (5.10.4)\n",
            "Requirement already satisfied: notebook>=6.4.10 in c:\\users\\issaq\\downloads\\sofe3980u-lab5-main\\sofe3980u-lab5-main\\lab5\\lib\\site-packages (from great_expectations) (7.3.3)\n",
            "Requirement already satisfied: packaging in c:\\users\\issaq\\downloads\\sofe3980u-lab5-main\\sofe3980u-lab5-main\\lab5\\lib\\site-packages (from great_expectations) (24.2)\n",
            "Requirement already satisfied: pydantic<2.0,>=1.9.2 in c:\\users\\issaq\\downloads\\sofe3980u-lab5-main\\sofe3980u-lab5-main\\lab5\\lib\\site-packages (from great_expectations) (1.10.21)\n",
            "Requirement already satisfied: pyparsing>=2.4 in c:\\users\\issaq\\downloads\\sofe3980u-lab5-main\\sofe3980u-lab5-main\\lab5\\lib\\site-packages (from great_expectations) (3.2.3)\n",
            "Requirement already satisfied: python-dateutil>=2.8.1 in c:\\users\\issaq\\downloads\\sofe3980u-lab5-main\\sofe3980u-lab5-main\\lab5\\lib\\site-packages (from great_expectations) (2.9.0.post0)\n",
            "Requirement already satisfied: pytz>=2021.3 in c:\\users\\issaq\\downloads\\sofe3980u-lab5-main\\sofe3980u-lab5-main\\lab5\\lib\\site-packages (from great_expectations) (2025.2)\n",
            "Requirement already satisfied: requests>=2.20 in c:\\users\\issaq\\downloads\\sofe3980u-lab5-main\\sofe3980u-lab5-main\\lab5\\lib\\site-packages (from great_expectations) (2.32.3)\n",
            "Requirement already satisfied: ruamel.yaml<0.17.18,>=0.16 in c:\\users\\issaq\\downloads\\sofe3980u-lab5-main\\sofe3980u-lab5-main\\lab5\\lib\\site-packages (from great_expectations) (0.17.17)\n",
            "Requirement already satisfied: scipy>=1.6.0 in c:\\users\\issaq\\downloads\\sofe3980u-lab5-main\\sofe3980u-lab5-main\\lab5\\lib\\site-packages (from great_expectations) (1.15.2)\n",
            "Requirement already satisfied: tqdm>=4.59.0 in c:\\users\\issaq\\downloads\\sofe3980u-lab5-main\\sofe3980u-lab5-main\\lab5\\lib\\site-packages (from great_expectations) (4.67.1)\n",
            "Requirement already satisfied: typing-extensions>=3.10.0.0 in c:\\users\\issaq\\downloads\\sofe3980u-lab5-main\\sofe3980u-lab5-main\\lab5\\lib\\site-packages (from great_expectations) (4.12.2)\n",
            "Requirement already satisfied: tzlocal>=1.2 in c:\\users\\issaq\\downloads\\sofe3980u-lab5-main\\sofe3980u-lab5-main\\lab5\\lib\\site-packages (from great_expectations) (5.3.1)\n",
            "Requirement already satisfied: urllib3>=1.26 in c:\\users\\issaq\\downloads\\sofe3980u-lab5-main\\sofe3980u-lab5-main\\lab5\\lib\\site-packages (from great_expectations) (2.3.0)\n",
            "Requirement already satisfied: numpy>=1.22.4 in c:\\users\\issaq\\downloads\\sofe3980u-lab5-main\\sofe3980u-lab5-main\\lab5\\lib\\site-packages (from great_expectations) (1.26.4)\n",
            "Requirement already satisfied: pandas>=1.3.0 in c:\\users\\issaq\\downloads\\sofe3980u-lab5-main\\sofe3980u-lab5-main\\lab5\\lib\\site-packages (from great_expectations) (2.1.4)\n",
            "Requirement already satisfied: entrypoints in c:\\users\\issaq\\downloads\\sofe3980u-lab5-main\\sofe3980u-lab5-main\\lab5\\lib\\site-packages (from altair<5.0.0,>=4.2.1->great_expectations) (0.4)\n",
            "Requirement already satisfied: toolz in c:\\users\\issaq\\downloads\\sofe3980u-lab5-main\\sofe3980u-lab5-main\\lab5\\lib\\site-packages (from altair<5.0.0,>=4.2.1->great_expectations) (1.0.0)\n",
            "Requirement already satisfied: cffi>=1.12 in c:\\users\\issaq\\downloads\\sofe3980u-lab5-main\\sofe3980u-lab5-main\\lab5\\lib\\site-packages (from cryptography>=3.2->great_expectations) (1.17.1)\n",
            "Requirement already satisfied: decorator in c:\\users\\issaq\\downloads\\sofe3980u-lab5-main\\sofe3980u-lab5-main\\lab5\\lib\\site-packages (from Ipython>=7.16.3->great_expectations) (5.2.1)\n",
            "Requirement already satisfied: ipython-pygments-lexers in c:\\users\\issaq\\downloads\\sofe3980u-lab5-main\\sofe3980u-lab5-main\\lab5\\lib\\site-packages (from Ipython>=7.16.3->great_expectations) (1.1.1)\n",
            "Requirement already satisfied: jedi>=0.16 in c:\\users\\issaq\\downloads\\sofe3980u-lab5-main\\sofe3980u-lab5-main\\lab5\\lib\\site-packages (from Ipython>=7.16.3->great_expectations) (0.19.2)\n",
            "Requirement already satisfied: matplotlib-inline in c:\\users\\issaq\\downloads\\sofe3980u-lab5-main\\sofe3980u-lab5-main\\lab5\\lib\\site-packages (from Ipython>=7.16.3->great_expectations) (0.1.7)\n",
            "Requirement already satisfied: prompt_toolkit<3.1.0,>=3.0.41 in c:\\users\\issaq\\downloads\\sofe3980u-lab5-main\\sofe3980u-lab5-main\\lab5\\lib\\site-packages (from Ipython>=7.16.3->great_expectations) (3.0.50)\n",
            "Requirement already satisfied: pygments>=2.4.0 in c:\\users\\issaq\\downloads\\sofe3980u-lab5-main\\sofe3980u-lab5-main\\lab5\\lib\\site-packages (from Ipython>=7.16.3->great_expectations) (2.19.1)\n",
            "Requirement already satisfied: stack_data in c:\\users\\issaq\\downloads\\sofe3980u-lab5-main\\sofe3980u-lab5-main\\lab5\\lib\\site-packages (from Ipython>=7.16.3->great_expectations) (0.6.3)\n",
            "Requirement already satisfied: traitlets>=5.13.0 in c:\\users\\issaq\\downloads\\sofe3980u-lab5-main\\sofe3980u-lab5-main\\lab5\\lib\\site-packages (from Ipython>=7.16.3->great_expectations) (5.14.3)\n",
            "Requirement already satisfied: comm>=0.1.3 in c:\\users\\issaq\\downloads\\sofe3980u-lab5-main\\sofe3980u-lab5-main\\lab5\\lib\\site-packages (from ipywidgets>=7.5.1->great_expectations) (0.2.2)\n",
            "Requirement already satisfied: widgetsnbextension~=4.0.12 in c:\\users\\issaq\\downloads\\sofe3980u-lab5-main\\sofe3980u-lab5-main\\lab5\\lib\\site-packages (from ipywidgets>=7.5.1->great_expectations) (4.0.13)\n",
            "Requirement already satisfied: jupyterlab-widgets~=3.0.12 in c:\\users\\issaq\\downloads\\sofe3980u-lab5-main\\sofe3980u-lab5-main\\lab5\\lib\\site-packages (from ipywidgets>=7.5.1->great_expectations) (3.0.13)\n",
            "Requirement already satisfied: MarkupSafe>=2.0 in c:\\users\\issaq\\downloads\\sofe3980u-lab5-main\\sofe3980u-lab5-main\\lab5\\lib\\site-packages (from jinja2>=2.10->great_expectations) (3.0.2)\n",
            "Requirement already satisfied: jsonpointer>=1.9 in c:\\users\\issaq\\downloads\\sofe3980u-lab5-main\\sofe3980u-lab5-main\\lab5\\lib\\site-packages (from jsonpatch>=1.22->great_expectations) (3.0.0)\n",
            "Requirement already satisfied: attrs>=22.2.0 in c:\\users\\issaq\\downloads\\sofe3980u-lab5-main\\sofe3980u-lab5-main\\lab5\\lib\\site-packages (from jsonschema>=2.5.1->great_expectations) (25.3.0)\n",
            "Requirement already satisfied: jsonschema-specifications>=2023.03.6 in c:\\users\\issaq\\downloads\\sofe3980u-lab5-main\\sofe3980u-lab5-main\\lab5\\lib\\site-packages (from jsonschema>=2.5.1->great_expectations) (2024.10.1)\n",
            "Requirement already satisfied: referencing>=0.28.4 in c:\\users\\issaq\\downloads\\sofe3980u-lab5-main\\sofe3980u-lab5-main\\lab5\\lib\\site-packages (from jsonschema>=2.5.1->great_expectations) (0.36.2)\n",
            "Requirement already satisfied: rpds-py>=0.7.1 in c:\\users\\issaq\\downloads\\sofe3980u-lab5-main\\sofe3980u-lab5-main\\lab5\\lib\\site-packages (from jsonschema>=2.5.1->great_expectations) (0.23.1)\n",
            "Requirement already satisfied: fastjsonschema>=2.15 in c:\\users\\issaq\\downloads\\sofe3980u-lab5-main\\sofe3980u-lab5-main\\lab5\\lib\\site-packages (from nbformat>=5.0->great_expectations) (2.21.1)\n",
            "Requirement already satisfied: jupyter-core!=5.0.*,>=4.12 in c:\\users\\issaq\\downloads\\sofe3980u-lab5-main\\sofe3980u-lab5-main\\lab5\\lib\\site-packages (from nbformat>=5.0->great_expectations) (5.7.2)\n",
            "Requirement already satisfied: jupyter-server<3,>=2.4.0 in c:\\users\\issaq\\downloads\\sofe3980u-lab5-main\\sofe3980u-lab5-main\\lab5\\lib\\site-packages (from notebook>=6.4.10->great_expectations) (2.15.0)\n",
            "Requirement already satisfied: jupyterlab-server<3,>=2.27.1 in c:\\users\\issaq\\downloads\\sofe3980u-lab5-main\\sofe3980u-lab5-main\\lab5\\lib\\site-packages (from notebook>=6.4.10->great_expectations) (2.27.3)\n",
            "Requirement already satisfied: jupyterlab<4.4,>=4.3.6 in c:\\users\\issaq\\downloads\\sofe3980u-lab5-main\\sofe3980u-lab5-main\\lab5\\lib\\site-packages (from notebook>=6.4.10->great_expectations) (4.3.6)\n",
            "Requirement already satisfied: notebook-shim<0.3,>=0.2 in c:\\users\\issaq\\downloads\\sofe3980u-lab5-main\\sofe3980u-lab5-main\\lab5\\lib\\site-packages (from notebook>=6.4.10->great_expectations) (0.2.4)\n",
            "Requirement already satisfied: tornado>=6.2.0 in c:\\users\\issaq\\downloads\\sofe3980u-lab5-main\\sofe3980u-lab5-main\\lab5\\lib\\site-packages (from notebook>=6.4.10->great_expectations) (6.4.2)\n",
            "Requirement already satisfied: tzdata>=2022.1 in c:\\users\\issaq\\downloads\\sofe3980u-lab5-main\\sofe3980u-lab5-main\\lab5\\lib\\site-packages (from pandas>=1.3.0->great_expectations) (2025.2)\n",
            "Requirement already satisfied: six>=1.5 in c:\\users\\issaq\\downloads\\sofe3980u-lab5-main\\sofe3980u-lab5-main\\lab5\\lib\\site-packages (from python-dateutil>=2.8.1->great_expectations) (1.17.0)\n",
            "Requirement already satisfied: charset-normalizer<4,>=2 in c:\\users\\issaq\\downloads\\sofe3980u-lab5-main\\sofe3980u-lab5-main\\lab5\\lib\\site-packages (from requests>=2.20->great_expectations) (3.4.1)\n",
            "Requirement already satisfied: idna<4,>=2.5 in c:\\users\\issaq\\downloads\\sofe3980u-lab5-main\\sofe3980u-lab5-main\\lab5\\lib\\site-packages (from requests>=2.20->great_expectations) (3.10)\n",
            "Requirement already satisfied: certifi>=2017.4.17 in c:\\users\\issaq\\downloads\\sofe3980u-lab5-main\\sofe3980u-lab5-main\\lab5\\lib\\site-packages (from requests>=2.20->great_expectations) (2025.1.31)\n",
            "Requirement already satisfied: pycparser in c:\\users\\issaq\\downloads\\sofe3980u-lab5-main\\sofe3980u-lab5-main\\lab5\\lib\\site-packages (from cffi>=1.12->cryptography>=3.2->great_expectations) (2.22)\n",
            "Requirement already satisfied: parso<0.9.0,>=0.8.4 in c:\\users\\issaq\\downloads\\sofe3980u-lab5-main\\sofe3980u-lab5-main\\lab5\\lib\\site-packages (from jedi>=0.16->Ipython>=7.16.3->great_expectations) (0.8.4)\n",
            "Requirement already satisfied: platformdirs>=2.5 in c:\\users\\issaq\\downloads\\sofe3980u-lab5-main\\sofe3980u-lab5-main\\lab5\\lib\\site-packages (from jupyter-core!=5.0.*,>=4.12->nbformat>=5.0->great_expectations) (4.3.7)\n",
            "Requirement already satisfied: pywin32>=300 in c:\\users\\issaq\\downloads\\sofe3980u-lab5-main\\sofe3980u-lab5-main\\lab5\\lib\\site-packages (from jupyter-core!=5.0.*,>=4.12->nbformat>=5.0->great_expectations) (310)\n",
            "Requirement already satisfied: anyio>=3.1.0 in c:\\users\\issaq\\downloads\\sofe3980u-lab5-main\\sofe3980u-lab5-main\\lab5\\lib\\site-packages (from jupyter-server<3,>=2.4.0->notebook>=6.4.10->great_expectations) (4.9.0)\n",
            "Requirement already satisfied: argon2-cffi>=21.1 in c:\\users\\issaq\\downloads\\sofe3980u-lab5-main\\sofe3980u-lab5-main\\lab5\\lib\\site-packages (from jupyter-server<3,>=2.4.0->notebook>=6.4.10->great_expectations) (23.1.0)\n",
            "Requirement already satisfied: jupyter-client>=7.4.4 in c:\\users\\issaq\\downloads\\sofe3980u-lab5-main\\sofe3980u-lab5-main\\lab5\\lib\\site-packages (from jupyter-server<3,>=2.4.0->notebook>=6.4.10->great_expectations) (8.6.3)\n",
            "Requirement already satisfied: jupyter-events>=0.11.0 in c:\\users\\issaq\\downloads\\sofe3980u-lab5-main\\sofe3980u-lab5-main\\lab5\\lib\\site-packages (from jupyter-server<3,>=2.4.0->notebook>=6.4.10->great_expectations) (0.12.0)\n",
            "Requirement already satisfied: jupyter-server-terminals>=0.4.4 in c:\\users\\issaq\\downloads\\sofe3980u-lab5-main\\sofe3980u-lab5-main\\lab5\\lib\\site-packages (from jupyter-server<3,>=2.4.0->notebook>=6.4.10->great_expectations) (0.5.3)\n",
            "Requirement already satisfied: nbconvert>=6.4.4 in c:\\users\\issaq\\downloads\\sofe3980u-lab5-main\\sofe3980u-lab5-main\\lab5\\lib\\site-packages (from jupyter-server<3,>=2.4.0->notebook>=6.4.10->great_expectations) (7.16.6)\n",
            "Requirement already satisfied: overrides>=5.0 in c:\\users\\issaq\\downloads\\sofe3980u-lab5-main\\sofe3980u-lab5-main\\lab5\\lib\\site-packages (from jupyter-server<3,>=2.4.0->notebook>=6.4.10->great_expectations) (7.7.0)\n",
            "Requirement already satisfied: prometheus-client>=0.9 in c:\\users\\issaq\\downloads\\sofe3980u-lab5-main\\sofe3980u-lab5-main\\lab5\\lib\\site-packages (from jupyter-server<3,>=2.4.0->notebook>=6.4.10->great_expectations) (0.21.1)\n",
            "Requirement already satisfied: pywinpty>=2.0.1 in c:\\users\\issaq\\downloads\\sofe3980u-lab5-main\\sofe3980u-lab5-main\\lab5\\lib\\site-packages (from jupyter-server<3,>=2.4.0->notebook>=6.4.10->great_expectations) (2.0.15)\n",
            "Requirement already satisfied: pyzmq>=24 in c:\\users\\issaq\\downloads\\sofe3980u-lab5-main\\sofe3980u-lab5-main\\lab5\\lib\\site-packages (from jupyter-server<3,>=2.4.0->notebook>=6.4.10->great_expectations) (26.3.0)\n",
            "Requirement already satisfied: send2trash>=1.8.2 in c:\\users\\issaq\\downloads\\sofe3980u-lab5-main\\sofe3980u-lab5-main\\lab5\\lib\\site-packages (from jupyter-server<3,>=2.4.0->notebook>=6.4.10->great_expectations) (1.8.3)\n",
            "Requirement already satisfied: terminado>=0.8.3 in c:\\users\\issaq\\downloads\\sofe3980u-lab5-main\\sofe3980u-lab5-main\\lab5\\lib\\site-packages (from jupyter-server<3,>=2.4.0->notebook>=6.4.10->great_expectations) (0.18.1)\n",
            "Requirement already satisfied: websocket-client>=1.7 in c:\\users\\issaq\\downloads\\sofe3980u-lab5-main\\sofe3980u-lab5-main\\lab5\\lib\\site-packages (from jupyter-server<3,>=2.4.0->notebook>=6.4.10->great_expectations) (1.8.0)\n",
            "Requirement already satisfied: async-lru>=1.0.0 in c:\\users\\issaq\\downloads\\sofe3980u-lab5-main\\sofe3980u-lab5-main\\lab5\\lib\\site-packages (from jupyterlab<4.4,>=4.3.6->notebook>=6.4.10->great_expectations) (2.0.5)\n",
            "Requirement already satisfied: httpx>=0.25.0 in c:\\users\\issaq\\downloads\\sofe3980u-lab5-main\\sofe3980u-lab5-main\\lab5\\lib\\site-packages (from jupyterlab<4.4,>=4.3.6->notebook>=6.4.10->great_expectations) (0.28.1)\n",
            "Requirement already satisfied: ipykernel>=6.5.0 in c:\\users\\issaq\\downloads\\sofe3980u-lab5-main\\sofe3980u-lab5-main\\lab5\\lib\\site-packages (from jupyterlab<4.4,>=4.3.6->notebook>=6.4.10->great_expectations) (6.29.5)\n",
            "Requirement already satisfied: jupyter-lsp>=2.0.0 in c:\\users\\issaq\\downloads\\sofe3980u-lab5-main\\sofe3980u-lab5-main\\lab5\\lib\\site-packages (from jupyterlab<4.4,>=4.3.6->notebook>=6.4.10->great_expectations) (2.2.5)\n",
            "Requirement already satisfied: setuptools>=40.8.0 in c:\\users\\issaq\\downloads\\sofe3980u-lab5-main\\sofe3980u-lab5-main\\lab5\\lib\\site-packages (from jupyterlab<4.4,>=4.3.6->notebook>=6.4.10->great_expectations) (65.5.0)\n",
            "Requirement already satisfied: babel>=2.10 in c:\\users\\issaq\\downloads\\sofe3980u-lab5-main\\sofe3980u-lab5-main\\lab5\\lib\\site-packages (from jupyterlab-server<3,>=2.27.1->notebook>=6.4.10->great_expectations) (2.17.0)\n",
            "Requirement already satisfied: json5>=0.9.0 in c:\\users\\issaq\\downloads\\sofe3980u-lab5-main\\sofe3980u-lab5-main\\lab5\\lib\\site-packages (from jupyterlab-server<3,>=2.27.1->notebook>=6.4.10->great_expectations) (0.10.0)\n",
            "Requirement already satisfied: wcwidth in c:\\users\\issaq\\downloads\\sofe3980u-lab5-main\\sofe3980u-lab5-main\\lab5\\lib\\site-packages (from prompt_toolkit<3.1.0,>=3.0.41->Ipython>=7.16.3->great_expectations) (0.2.13)\n",
            "Requirement already satisfied: executing>=1.2.0 in c:\\users\\issaq\\downloads\\sofe3980u-lab5-main\\sofe3980u-lab5-main\\lab5\\lib\\site-packages (from stack_data->Ipython>=7.16.3->great_expectations) (2.2.0)\n",
            "Requirement already satisfied: asttokens>=2.1.0 in c:\\users\\issaq\\downloads\\sofe3980u-lab5-main\\sofe3980u-lab5-main\\lab5\\lib\\site-packages (from stack_data->Ipython>=7.16.3->great_expectations) (3.0.0)\n",
            "Requirement already satisfied: pure-eval in c:\\users\\issaq\\downloads\\sofe3980u-lab5-main\\sofe3980u-lab5-main\\lab5\\lib\\site-packages (from stack_data->Ipython>=7.16.3->great_expectations) (0.2.3)\n",
            "Requirement already satisfied: sniffio>=1.1 in c:\\users\\issaq\\downloads\\sofe3980u-lab5-main\\sofe3980u-lab5-main\\lab5\\lib\\site-packages (from anyio>=3.1.0->jupyter-server<3,>=2.4.0->notebook>=6.4.10->great_expectations) (1.3.1)\n",
            "Requirement already satisfied: argon2-cffi-bindings in c:\\users\\issaq\\downloads\\sofe3980u-lab5-main\\sofe3980u-lab5-main\\lab5\\lib\\site-packages (from argon2-cffi>=21.1->jupyter-server<3,>=2.4.0->notebook>=6.4.10->great_expectations) (21.2.0)\n",
            "Requirement already satisfied: httpcore==1.* in c:\\users\\issaq\\downloads\\sofe3980u-lab5-main\\sofe3980u-lab5-main\\lab5\\lib\\site-packages (from httpx>=0.25.0->jupyterlab<4.4,>=4.3.6->notebook>=6.4.10->great_expectations) (1.0.7)\n",
            "Requirement already satisfied: h11<0.15,>=0.13 in c:\\users\\issaq\\downloads\\sofe3980u-lab5-main\\sofe3980u-lab5-main\\lab5\\lib\\site-packages (from httpcore==1.*->httpx>=0.25.0->jupyterlab<4.4,>=4.3.6->notebook>=6.4.10->great_expectations) (0.14.0)\n",
            "Requirement already satisfied: debugpy>=1.6.5 in c:\\users\\issaq\\downloads\\sofe3980u-lab5-main\\sofe3980u-lab5-main\\lab5\\lib\\site-packages (from ipykernel>=6.5.0->jupyterlab<4.4,>=4.3.6->notebook>=6.4.10->great_expectations) (1.8.13)\n",
            "Requirement already satisfied: nest-asyncio in c:\\users\\issaq\\downloads\\sofe3980u-lab5-main\\sofe3980u-lab5-main\\lab5\\lib\\site-packages (from ipykernel>=6.5.0->jupyterlab<4.4,>=4.3.6->notebook>=6.4.10->great_expectations) (1.6.0)\n",
            "Requirement already satisfied: psutil in c:\\users\\issaq\\downloads\\sofe3980u-lab5-main\\sofe3980u-lab5-main\\lab5\\lib\\site-packages (from ipykernel>=6.5.0->jupyterlab<4.4,>=4.3.6->notebook>=6.4.10->great_expectations) (7.0.0)\n",
            "Requirement already satisfied: python-json-logger>=2.0.4 in c:\\users\\issaq\\downloads\\sofe3980u-lab5-main\\sofe3980u-lab5-main\\lab5\\lib\\site-packages (from jupyter-events>=0.11.0->jupyter-server<3,>=2.4.0->notebook>=6.4.10->great_expectations) (3.3.0)\n",
            "Requirement already satisfied: pyyaml>=5.3 in c:\\users\\issaq\\downloads\\sofe3980u-lab5-main\\sofe3980u-lab5-main\\lab5\\lib\\site-packages (from jupyter-events>=0.11.0->jupyter-server<3,>=2.4.0->notebook>=6.4.10->great_expectations) (6.0.2)\n",
            "Requirement already satisfied: rfc3339-validator in c:\\users\\issaq\\downloads\\sofe3980u-lab5-main\\sofe3980u-lab5-main\\lab5\\lib\\site-packages (from jupyter-events>=0.11.0->jupyter-server<3,>=2.4.0->notebook>=6.4.10->great_expectations) (0.1.4)\n",
            "Requirement already satisfied: rfc3986-validator>=0.1.1 in c:\\users\\issaq\\downloads\\sofe3980u-lab5-main\\sofe3980u-lab5-main\\lab5\\lib\\site-packages (from jupyter-events>=0.11.0->jupyter-server<3,>=2.4.0->notebook>=6.4.10->great_expectations) (0.1.1)\n",
            "Requirement already satisfied: beautifulsoup4 in c:\\users\\issaq\\downloads\\sofe3980u-lab5-main\\sofe3980u-lab5-main\\lab5\\lib\\site-packages (from nbconvert>=6.4.4->jupyter-server<3,>=2.4.0->notebook>=6.4.10->great_expectations) (4.13.3)\n",
            "Requirement already satisfied: bleach!=5.0.0 in c:\\users\\issaq\\downloads\\sofe3980u-lab5-main\\sofe3980u-lab5-main\\lab5\\lib\\site-packages (from bleach[css]!=5.0.0->nbconvert>=6.4.4->jupyter-server<3,>=2.4.0->notebook>=6.4.10->great_expectations) (6.2.0)\n",
            "Requirement already satisfied: defusedxml in c:\\users\\issaq\\downloads\\sofe3980u-lab5-main\\sofe3980u-lab5-main\\lab5\\lib\\site-packages (from nbconvert>=6.4.4->jupyter-server<3,>=2.4.0->notebook>=6.4.10->great_expectations) (0.7.1)\n",
            "Requirement already satisfied: jupyterlab-pygments in c:\\users\\issaq\\downloads\\sofe3980u-lab5-main\\sofe3980u-lab5-main\\lab5\\lib\\site-packages (from nbconvert>=6.4.4->jupyter-server<3,>=2.4.0->notebook>=6.4.10->great_expectations) (0.3.0)\n",
            "Requirement already satisfied: nbclient>=0.5.0 in c:\\users\\issaq\\downloads\\sofe3980u-lab5-main\\sofe3980u-lab5-main\\lab5\\lib\\site-packages (from nbconvert>=6.4.4->jupyter-server<3,>=2.4.0->notebook>=6.4.10->great_expectations) (0.10.2)\n",
            "Requirement already satisfied: pandocfilters>=1.4.1 in c:\\users\\issaq\\downloads\\sofe3980u-lab5-main\\sofe3980u-lab5-main\\lab5\\lib\\site-packages (from nbconvert>=6.4.4->jupyter-server<3,>=2.4.0->notebook>=6.4.10->great_expectations) (1.5.1)\n",
            "Requirement already satisfied: webencodings in c:\\users\\issaq\\downloads\\sofe3980u-lab5-main\\sofe3980u-lab5-main\\lab5\\lib\\site-packages (from bleach!=5.0.0->bleach[css]!=5.0.0->nbconvert>=6.4.4->jupyter-server<3,>=2.4.0->notebook>=6.4.10->great_expectations) (0.5.1)\n",
            "Requirement already satisfied: tinycss2<1.5,>=1.1.0 in c:\\users\\issaq\\downloads\\sofe3980u-lab5-main\\sofe3980u-lab5-main\\lab5\\lib\\site-packages (from bleach[css]!=5.0.0->nbconvert>=6.4.4->jupyter-server<3,>=2.4.0->notebook>=6.4.10->great_expectations) (1.4.0)\n",
            "Requirement already satisfied: fqdn in c:\\users\\issaq\\downloads\\sofe3980u-lab5-main\\sofe3980u-lab5-main\\lab5\\lib\\site-packages (from jsonschema[format-nongpl]>=4.18.0->jupyter-events>=0.11.0->jupyter-server<3,>=2.4.0->notebook>=6.4.10->great_expectations) (1.5.1)\n",
            "Requirement already satisfied: isoduration in c:\\users\\issaq\\downloads\\sofe3980u-lab5-main\\sofe3980u-lab5-main\\lab5\\lib\\site-packages (from jsonschema[format-nongpl]>=4.18.0->jupyter-events>=0.11.0->jupyter-server<3,>=2.4.0->notebook>=6.4.10->great_expectations) (20.11.0)\n",
            "Requirement already satisfied: uri-template in c:\\users\\issaq\\downloads\\sofe3980u-lab5-main\\sofe3980u-lab5-main\\lab5\\lib\\site-packages (from jsonschema[format-nongpl]>=4.18.0->jupyter-events>=0.11.0->jupyter-server<3,>=2.4.0->notebook>=6.4.10->great_expectations) (1.3.0)\n",
            "Requirement already satisfied: webcolors>=24.6.0 in c:\\users\\issaq\\downloads\\sofe3980u-lab5-main\\sofe3980u-lab5-main\\lab5\\lib\\site-packages (from jsonschema[format-nongpl]>=4.18.0->jupyter-events>=0.11.0->jupyter-server<3,>=2.4.0->notebook>=6.4.10->great_expectations) (24.11.1)\n",
            "Requirement already satisfied: soupsieve>1.2 in c:\\users\\issaq\\downloads\\sofe3980u-lab5-main\\sofe3980u-lab5-main\\lab5\\lib\\site-packages (from beautifulsoup4->nbconvert>=6.4.4->jupyter-server<3,>=2.4.0->notebook>=6.4.10->great_expectations) (2.6)\n",
            "Requirement already satisfied: arrow>=0.15.0 in c:\\users\\issaq\\downloads\\sofe3980u-lab5-main\\sofe3980u-lab5-main\\lab5\\lib\\site-packages (from isoduration->jsonschema[format-nongpl]>=4.18.0->jupyter-events>=0.11.0->jupyter-server<3,>=2.4.0->notebook>=6.4.10->great_expectations) (1.3.0)\n",
            "Requirement already satisfied: types-python-dateutil>=2.8.10 in c:\\users\\issaq\\downloads\\sofe3980u-lab5-main\\sofe3980u-lab5-main\\lab5\\lib\\site-packages (from arrow>=0.15.0->isoduration->jsonschema[format-nongpl]>=4.18.0->jupyter-events>=0.11.0->jupyter-server<3,>=2.4.0->notebook>=6.4.10->great_expectations) (2.9.0.20241206)\n",
            "Note: you may need to restart the kernel to use updated packages.\n"
          ]
        }
      ],
      "source": [
        "%pip install great_expectations"
      ]
    },
    {
      "cell_type": "markdown",
      "metadata": {
        "id": "fWSO9h40JZjg"
      },
      "source": [
        "##2. Import Necessary Libraries"
      ]
    },
    {
      "cell_type": "markdown",
      "metadata": {
        "id": "qxtulC8RMBxO"
      },
      "source": [
        "In this step, we import two essential libraries:\n",
        "\n",
        "    - pandas: A powerful data manipulation library that provides data structures (like DataFrames) to handle and analyze structured data efficiently.\n",
        "    - great_expectations: The core library of the Great Expectations framework, imported as gx. This will be used to define expectations and validate data quality."
      ]
    },
    {
      "cell_type": "code",
      "execution_count": 2,
      "metadata": {
        "collapsed": true,
        "id": "77qWdq8yVVEl"
      },
      "outputs": [],
      "source": [
        "import pandas as pd\n",
        "import great_expectations as gx"
      ]
    },
    {
      "cell_type": "markdown",
      "metadata": {
        "id": "Fdt5KucDJu-h"
      },
      "source": [
        "##3. Load UCI Adult Dataset"
      ]
    },
    {
      "cell_type": "markdown",
      "metadata": {
        "id": "vADES337MJHl"
      },
      "source": [
        "Here, we load the UCI Adult Dataset directly from a URL. This dataset contains demographic information and income data, such as age, education, hours worked per week, and income level. It is often used for machine learning tasks like classification. The pd.read_csv() function loads the data into a pandas DataFrame and assigns column names for easier access."
      ]
    },
    {
      "cell_type": "code",
      "execution_count": 3,
      "metadata": {
        "id": "ogHUyzFKdS5z"
      },
      "outputs": [],
      "source": [
        "df = pd.read_csv(\"https://archive.ics.uci.edu/ml/machine-learning-databases/adult/adult.data\",\n",
        "                 names=[\"age\", \"workclass\", \"fnlwgt\", \"education\", \"education-num\", \"marital-status\",\n",
        "                        \"occupation\", \"relationship\", \"race\", \"sex\", \"capital-gain\", \"capital-loss\",\n",
        "                        \"hours-per-week\", \"native-country\", \"income\"])"
      ]
    },
    {
      "cell_type": "markdown",
      "metadata": {
        "id": "2BCIXXwdJyS7"
      },
      "source": [
        "##4. Preview the Dataset"
      ]
    },
    {
      "cell_type": "markdown",
      "metadata": {
        "id": "TBJnYRhQMKl1"
      },
      "source": [
        "In this step, we use the head() function to display the first five rows of the dataset. This is a common method for quickly inspecting the data structure and ensuring the dataset has been loaded correctly."
      ]
    },
    {
      "cell_type": "code",
      "execution_count": 4,
      "metadata": {
        "id": "OXpbbmRsVj0k"
      },
      "outputs": [
        {
          "data": {
            "text/html": [
              "<div>\n",
              "<style scoped>\n",
              "    .dataframe tbody tr th:only-of-type {\n",
              "        vertical-align: middle;\n",
              "    }\n",
              "\n",
              "    .dataframe tbody tr th {\n",
              "        vertical-align: top;\n",
              "    }\n",
              "\n",
              "    .dataframe thead th {\n",
              "        text-align: right;\n",
              "    }\n",
              "</style>\n",
              "<table border=\"1\" class=\"dataframe\">\n",
              "  <thead>\n",
              "    <tr style=\"text-align: right;\">\n",
              "      <th></th>\n",
              "      <th>age</th>\n",
              "      <th>workclass</th>\n",
              "      <th>fnlwgt</th>\n",
              "      <th>education</th>\n",
              "      <th>education-num</th>\n",
              "      <th>marital-status</th>\n",
              "      <th>occupation</th>\n",
              "      <th>relationship</th>\n",
              "      <th>race</th>\n",
              "      <th>sex</th>\n",
              "      <th>capital-gain</th>\n",
              "      <th>capital-loss</th>\n",
              "      <th>hours-per-week</th>\n",
              "      <th>native-country</th>\n",
              "      <th>income</th>\n",
              "    </tr>\n",
              "  </thead>\n",
              "  <tbody>\n",
              "    <tr>\n",
              "      <th>0</th>\n",
              "      <td>39</td>\n",
              "      <td>State-gov</td>\n",
              "      <td>77516</td>\n",
              "      <td>Bachelors</td>\n",
              "      <td>13</td>\n",
              "      <td>Never-married</td>\n",
              "      <td>Adm-clerical</td>\n",
              "      <td>Not-in-family</td>\n",
              "      <td>White</td>\n",
              "      <td>Male</td>\n",
              "      <td>2174</td>\n",
              "      <td>0</td>\n",
              "      <td>40</td>\n",
              "      <td>United-States</td>\n",
              "      <td>&lt;=50K</td>\n",
              "    </tr>\n",
              "    <tr>\n",
              "      <th>1</th>\n",
              "      <td>50</td>\n",
              "      <td>Self-emp-not-inc</td>\n",
              "      <td>83311</td>\n",
              "      <td>Bachelors</td>\n",
              "      <td>13</td>\n",
              "      <td>Married-civ-spouse</td>\n",
              "      <td>Exec-managerial</td>\n",
              "      <td>Husband</td>\n",
              "      <td>White</td>\n",
              "      <td>Male</td>\n",
              "      <td>0</td>\n",
              "      <td>0</td>\n",
              "      <td>13</td>\n",
              "      <td>United-States</td>\n",
              "      <td>&lt;=50K</td>\n",
              "    </tr>\n",
              "    <tr>\n",
              "      <th>2</th>\n",
              "      <td>38</td>\n",
              "      <td>Private</td>\n",
              "      <td>215646</td>\n",
              "      <td>HS-grad</td>\n",
              "      <td>9</td>\n",
              "      <td>Divorced</td>\n",
              "      <td>Handlers-cleaners</td>\n",
              "      <td>Not-in-family</td>\n",
              "      <td>White</td>\n",
              "      <td>Male</td>\n",
              "      <td>0</td>\n",
              "      <td>0</td>\n",
              "      <td>40</td>\n",
              "      <td>United-States</td>\n",
              "      <td>&lt;=50K</td>\n",
              "    </tr>\n",
              "    <tr>\n",
              "      <th>3</th>\n",
              "      <td>53</td>\n",
              "      <td>Private</td>\n",
              "      <td>234721</td>\n",
              "      <td>11th</td>\n",
              "      <td>7</td>\n",
              "      <td>Married-civ-spouse</td>\n",
              "      <td>Handlers-cleaners</td>\n",
              "      <td>Husband</td>\n",
              "      <td>Black</td>\n",
              "      <td>Male</td>\n",
              "      <td>0</td>\n",
              "      <td>0</td>\n",
              "      <td>40</td>\n",
              "      <td>United-States</td>\n",
              "      <td>&lt;=50K</td>\n",
              "    </tr>\n",
              "    <tr>\n",
              "      <th>4</th>\n",
              "      <td>28</td>\n",
              "      <td>Private</td>\n",
              "      <td>338409</td>\n",
              "      <td>Bachelors</td>\n",
              "      <td>13</td>\n",
              "      <td>Married-civ-spouse</td>\n",
              "      <td>Prof-specialty</td>\n",
              "      <td>Wife</td>\n",
              "      <td>Black</td>\n",
              "      <td>Female</td>\n",
              "      <td>0</td>\n",
              "      <td>0</td>\n",
              "      <td>40</td>\n",
              "      <td>Cuba</td>\n",
              "      <td>&lt;=50K</td>\n",
              "    </tr>\n",
              "  </tbody>\n",
              "</table>\n",
              "</div>"
            ],
            "text/plain": [
              "   age          workclass  fnlwgt   education  education-num  \\\n",
              "0   39          State-gov   77516   Bachelors             13   \n",
              "1   50   Self-emp-not-inc   83311   Bachelors             13   \n",
              "2   38            Private  215646     HS-grad              9   \n",
              "3   53            Private  234721        11th              7   \n",
              "4   28            Private  338409   Bachelors             13   \n",
              "\n",
              "        marital-status          occupation    relationship    race      sex  \\\n",
              "0        Never-married        Adm-clerical   Not-in-family   White     Male   \n",
              "1   Married-civ-spouse     Exec-managerial         Husband   White     Male   \n",
              "2             Divorced   Handlers-cleaners   Not-in-family   White     Male   \n",
              "3   Married-civ-spouse   Handlers-cleaners         Husband   Black     Male   \n",
              "4   Married-civ-spouse      Prof-specialty            Wife   Black   Female   \n",
              "\n",
              "   capital-gain  capital-loss  hours-per-week  native-country  income  \n",
              "0          2174             0              40   United-States   <=50K  \n",
              "1             0             0              13   United-States   <=50K  \n",
              "2             0             0              40   United-States   <=50K  \n",
              "3             0             0              40   United-States   <=50K  \n",
              "4             0             0              40            Cuba   <=50K  "
            ]
          },
          "execution_count": 4,
          "metadata": {},
          "output_type": "execute_result"
        }
      ],
      "source": [
        "df.head()"
      ]
    },
    {
      "cell_type": "markdown",
      "metadata": {
        "id": "WwljyFlFJ1A8"
      },
      "source": [
        "##5. Set Up Great Expectations Context and Data Source"
      ]
    },
    {
      "cell_type": "markdown",
      "metadata": {
        "id": "F_p-ybfgMMYy"
      },
      "source": [
        "Here, we initialize the Great Expectations context, which manages data sources, expectations, and validation processes. We then add a pandas data source to the context, allowing us to work with our pandas DataFrame as a data asset for further validation steps."
      ]
    },
    {
      "cell_type": "code",
      "execution_count": 5,
      "metadata": {
        "id": "SxSmTGmZVk5U"
      },
      "outputs": [
        {
          "ename": "AttributeError",
          "evalue": "'EphemeralDataContext' object has no attribute 'data_sources'",
          "output_type": "error",
          "traceback": [
            "\u001b[31m---------------------------------------------------------------------------\u001b[39m",
            "\u001b[31mAttributeError\u001b[39m                            Traceback (most recent call last)",
            "\u001b[36mCell\u001b[39m\u001b[36m \u001b[39m\u001b[32mIn[5]\u001b[39m\u001b[32m, line 2\u001b[39m\n\u001b[32m      1\u001b[39m context = gx.get_context()\n\u001b[32m----> \u001b[39m\u001b[32m2\u001b[39m data_source = \u001b[43mcontext\u001b[49m\u001b[43m.\u001b[49m\u001b[43mdata_sources\u001b[49m.add_pandas(\u001b[33m\"\u001b[39m\u001b[33mpandas\u001b[39m\u001b[33m\"\u001b[39m)\n\u001b[32m      3\u001b[39m data_asset = data_source.add_dataframe_asset(name=\u001b[33m\"\u001b[39m\u001b[33mpd dataframe asset\u001b[39m\u001b[33m\"\u001b[39m)\n",
            "\u001b[31mAttributeError\u001b[39m: 'EphemeralDataContext' object has no attribute 'data_sources'"
          ]
        }
      ],
      "source": [
        "context = gx.get_context()\n",
        "data_source = context.data_sources.add_pandas(\"pandas\")\n",
        "data_asset = data_source.add_dataframe_asset(name=\"pd dataframe asset\")"
      ]
    },
    {
      "cell_type": "markdown",
      "metadata": {
        "id": "IHl4W07zJ5-A"
      },
      "source": [
        "##6. Define and Create a Data Batch"
      ]
    },
    {
      "cell_type": "markdown",
      "metadata": {
        "id": "djmfsBIEMRxM"
      },
      "source": [
        "In this step, we define a batch of data from the pandas DataFrame (df). A batch in Great Expectations represents a subset of the data that can be validated against expectations. We create a batch definition for the whole DataFrame and then use this definition to retrieve the batch of data for validation."
      ]
    },
    {
      "cell_type": "code",
      "execution_count": null,
      "metadata": {
        "id": "dTdpe1tVhpgp"
      },
      "outputs": [
        {
          "ename": "NameError",
          "evalue": "name 'data_asset' is not defined",
          "output_type": "error",
          "traceback": [
            "\u001b[31m---------------------------------------------------------------------------\u001b[39m",
            "\u001b[31mNameError\u001b[39m                                 Traceback (most recent call last)",
            "\u001b[36mCell\u001b[39m\u001b[36m \u001b[39m\u001b[32mIn[12]\u001b[39m\u001b[32m, line 1\u001b[39m\n\u001b[32m----> \u001b[39m\u001b[32m1\u001b[39m batch_definition = \u001b[43mdata_asset\u001b[49m.add_batch_definition_whole_dataframe(\u001b[33m\"\u001b[39m\u001b[33mbatch definition\u001b[39m\u001b[33m\"\u001b[39m)\n\u001b[32m      2\u001b[39m batch = batch_definition.get_batch(batch_parameters={\u001b[33m\"\u001b[39m\u001b[33mdataframe\u001b[39m\u001b[33m\"\u001b[39m: df})\n",
            "\u001b[31mNameError\u001b[39m: name 'data_asset' is not defined"
          ]
        }
      ],
      "source": [
        "batch_definition = data_asset.add_batch_definition_whole_dataframe(\"batch definition\")\n",
        "batch = batch_definition.get_batch(batch_parameters={\"dataframe\": df})"
      ]
    },
    {
      "cell_type": "markdown",
      "metadata": {
        "id": "JhVlKGYXJ8Tf"
      },
      "source": [
        "##7. Define an Expectation for Column Values"
      ]
    },
    {
      "cell_type": "markdown",
      "metadata": {
        "id": "gaIvn5Y-Mazw"
      },
      "source": [
        "Here, we define an expectation for the education-num column in the dataset. The expectation specifies that the values in the education-num column should fall within a specified range (between 0 and 20). Expectations help us define what the valid range of data values should be for each column."
      ]
    },
    {
      "cell_type": "code",
      "execution_count": null,
      "metadata": {
        "id": "PJw-qrNyhsIX"
      },
      "outputs": [],
      "source": [
        "expectation = gx.expectations.ExpectColumnValuesToBeBetween(\n",
        "    column=\"education-num\", min_value=0, max_value=20\n",
        ")"
      ]
    },
    {
      "cell_type": "markdown",
      "metadata": {
        "id": "18DfcBimJ-du"
      },
      "source": [
        "##8. Validate the Data Against the Expectation\n"
      ]
    },
    {
      "cell_type": "markdown",
      "metadata": {
        "id": "bVaGQm0sMhan"
      },
      "source": [
        "In this final step, we validate the dataset (batch) against the previously defined expectation. The validate() method checks if the data in the education-num column meets the defined condition (values between 0 and 20). The result is printed to provide feedback on whether the data passed or failed the validation."
      ]
    },
    {
      "cell_type": "code",
      "execution_count": null,
      "metadata": {
        "collapsed": true,
        "id": "G9Od69YChtf7"
      },
      "outputs": [],
      "source": [
        "validation_result = batch.validate(expectation)\n",
        "print(validation_result)"
      ]
    }
  ],
  "metadata": {
    "colab": {
      "provenance": []
    },
    "kernelspec": {
      "display_name": "lab5",
      "language": "python",
      "name": "python3"
    },
    "language_info": {
      "codemirror_mode": {
        "name": "ipython",
        "version": 3
      },
      "file_extension": ".py",
      "mimetype": "text/x-python",
      "name": "python",
      "nbconvert_exporter": "python",
      "pygments_lexer": "ipython3",
      "version": "3.11.0"
    }
  },
  "nbformat": 4,
  "nbformat_minor": 0
}
